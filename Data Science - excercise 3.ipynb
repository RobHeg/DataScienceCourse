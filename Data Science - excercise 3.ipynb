{
 "cells": [
  {
   "cell_type": "markdown",
   "id": "4aad51b0",
   "metadata": {},
   "source": [
    "<h1>Python exercise</h1>\n",
    "\n",
    "1. create the function called count_letter to extract the number of the letters from a sentence from python and output it as a dictionary (Dont forget to check the input type, raise an error if the input type is not what we want)"
   ]
  },
  {
   "cell_type": "code",
   "execution_count": 1,
   "id": "ec26a566",
   "metadata": {},
   "outputs": [],
   "source": [
    "#returns a dictionary containing all appearing letters and the corresponding number of appearances in yourInput\n",
    "def count_letter( yourInput ):\n",
    "    \n",
    "    #check if the input is a string\n",
    "    if (type(yourInput) != str):           \n",
    "        #return 'ERROR: please insert a string as input when calling function count_letter'\n",
    "        raise TypeError('input of count_letter() must be ' + str(type(\"\")) +' instead of '+ str(type(yourInput)))\n",
    "        \n",
    "    #create a new dictionary. keys are letters, values are how often they appear\n",
    "    myLetterCounterDict = {}               \n",
    "    \n",
    "    #in a given example, it counted \"I\" as \"i\" meaning that we want lowercase only\n",
    "    lowercaseInput = yourInput.lower()\n",
    "    \n",
    "    #loop over all characters\n",
    "    for character in lowercaseInput:    \n",
    "        #check if it is a letter\n",
    "        if(character.isalpha()):        \n",
    "            #check if they are already in the dictionary  \n",
    "            if character in myLetterCounterDict:     \n",
    "                #if yes, increase the value by 1\n",
    "                myLetterCounterDict[character] += 1 \n",
    "            else:\n",
    "                #if no, insert character as new key with value 1\n",
    "                myLetterCounterDict[character] = 1\n",
    "            \n",
    "    return myLetterCounterDict    "
   ]
  },
  {
   "cell_type": "code",
   "execution_count": 2,
   "id": "fbdadb7d",
   "metadata": {},
   "outputs": [
    {
     "data": {
      "text/plain": [
       "{'i': 2,\n",
       " 'a': 3,\n",
       " 'm': 1,\n",
       " 'b': 1,\n",
       " 'o': 2,\n",
       " 'y': 2,\n",
       " 'n': 1,\n",
       " 'd': 1,\n",
       " 'u': 1,\n",
       " 'ß': 1,\n",
       " 'ö': 1,\n",
       " 'ä': 1,\n",
       " 'ü': 2}"
      ]
     },
     "execution_count": 2,
     "metadata": {},
     "output_type": "execute_result"
    }
   ],
   "source": [
    "a = \"Ii am a boy, and you ß öäüÜ ;:''?\"\n",
    "count_letter(a)"
   ]
  },
  {
   "cell_type": "code",
   "execution_count": 3,
   "id": "d665305d",
   "metadata": {},
   "outputs": [
    {
     "ename": "TypeError",
     "evalue": "input of count_letter() must be <class 'str'> instead of <class 'int'>",
     "output_type": "error",
     "traceback": [
      "\u001b[1;31m---------------------------------------------------------------------------\u001b[0m",
      "\u001b[1;31mTypeError\u001b[0m                                 Traceback (most recent call last)",
      "Cell \u001b[1;32mIn[3], line 2\u001b[0m\n\u001b[0;32m      1\u001b[0m b \u001b[38;5;241m=\u001b[39m \u001b[38;5;241m2\u001b[39m\n\u001b[1;32m----> 2\u001b[0m \u001b[43mcount_letter\u001b[49m\u001b[43m(\u001b[49m\u001b[43mb\u001b[49m\u001b[43m)\u001b[49m\n",
      "Cell \u001b[1;32mIn[1], line 7\u001b[0m, in \u001b[0;36mcount_letter\u001b[1;34m(yourInput)\u001b[0m\n\u001b[0;32m      2\u001b[0m \u001b[38;5;28;01mdef\u001b[39;00m \u001b[38;5;21mcount_letter\u001b[39m( yourInput ):\n\u001b[0;32m      3\u001b[0m     \n\u001b[0;32m      4\u001b[0m     \u001b[38;5;66;03m#check if the input is a string\u001b[39;00m\n\u001b[0;32m      5\u001b[0m     \u001b[38;5;28;01mif\u001b[39;00m (\u001b[38;5;28mtype\u001b[39m(yourInput) \u001b[38;5;241m!=\u001b[39m \u001b[38;5;28mstr\u001b[39m):           \n\u001b[0;32m      6\u001b[0m         \u001b[38;5;66;03m#return 'ERROR: please insert a string as input when calling function count_letter'\u001b[39;00m\n\u001b[1;32m----> 7\u001b[0m         \u001b[38;5;28;01mraise\u001b[39;00m \u001b[38;5;167;01mTypeError\u001b[39;00m(\u001b[38;5;124m'\u001b[39m\u001b[38;5;124minput of count_letter() must be \u001b[39m\u001b[38;5;124m'\u001b[39m \u001b[38;5;241m+\u001b[39m \u001b[38;5;28mstr\u001b[39m(\u001b[38;5;28mtype\u001b[39m(\u001b[38;5;124m\"\u001b[39m\u001b[38;5;124m\"\u001b[39m)) \u001b[38;5;241m+\u001b[39m\u001b[38;5;124m'\u001b[39m\u001b[38;5;124m instead of \u001b[39m\u001b[38;5;124m'\u001b[39m\u001b[38;5;241m+\u001b[39m \u001b[38;5;28mstr\u001b[39m(\u001b[38;5;28mtype\u001b[39m(yourInput)))\n\u001b[0;32m      9\u001b[0m     \u001b[38;5;66;03m#create a new dictionary. keys are letters, values are how often they appear\u001b[39;00m\n\u001b[0;32m     10\u001b[0m     myLetterCounterDict \u001b[38;5;241m=\u001b[39m {}               \n",
      "\u001b[1;31mTypeError\u001b[0m: input of count_letter() must be <class 'str'> instead of <class 'int'>"
     ]
    }
   ],
   "source": [
    "b = 2\n",
    "count_letter(b)"
   ]
  },
  {
   "cell_type": "markdown",
   "id": "5fd67fee",
   "metadata": {},
   "source": [
    "---\n",
    "2. explain the results </br>\n",
    "why numbers[::-1] get [5,4,3,2,1] and why numbers[4:2:-1] get [5,4]"
   ]
  },
  {
   "cell_type": "code",
   "execution_count": 4,
   "id": "f29ffde3",
   "metadata": {},
   "outputs": [
    {
     "name": "stdout",
     "output_type": "stream",
     "text": [
      "[5, 4, 3, 2, 1]\n",
      "[5, 4]\n"
     ]
    }
   ],
   "source": [
    "numbers = [1,2,3,4,5]\n",
    "print(numbers[::-1])\n",
    "print(numbers[4:2:-1])"
   ]
  },
  {
   "cell_type": "markdown",
   "id": "730a3970",
   "metadata": {},
   "source": [
    "[::1] The -1 means: Give out the elements in reverse order. there is no range specified like in the second example so that per default, every number is printed out</br>\n",
    "[4:2:-1] consists of multiple parts: The -1 applies first and means: Give out the elements in reverse order. 4:2 then specifies the range: starting from index 4 and ending with index 2 (but excluding the last element). Meaning index 4 and index 3. which is 5,4 </br>"
   ]
  },
  {
   "cell_type": "markdown",
   "id": "5a1a1149",
   "metadata": {},
   "source": [
    "---\n",
    "3. How to use list slice and index to get [2,4,1] from the list: number = [1,2,3,4,5],\n",
    "Hints: you can have several steps"
   ]
  },
  {
   "cell_type": "code",
   "execution_count": 5,
   "id": "95ad6b02",
   "metadata": {},
   "outputs": [
    {
     "name": "stdout",
     "output_type": "stream",
     "text": [
      "[2, 4, 1]\n",
      "[2, 4, 1]\n",
      "[2, 4, 1]\n",
      "[2, 4, 1]\n"
     ]
    }
   ],
   "source": [
    "number = [1,2,3,4,5]\n",
    "\n",
    "#code golf - fewest characters win\n",
    "print([number[1],number[3],number[0]])   #38 chars\n",
    "print([number[i]for i in[1,3,0]])        #33 chars\n",
    "print([number[1]]+number[3::-3])         #32 chars; uses list slice AND index\n",
    "print(number[1::2]+[number[0]])          #31 chars; uses list slice AND index\n",
    "\n",
    "#print(number[-4::2])                     #does unfortunately not call the 0th element"
   ]
  }
 ],
 "metadata": {
  "kernelspec": {
   "display_name": "Python 3 (ipykernel)",
   "language": "python",
   "name": "python3"
  },
  "language_info": {
   "codemirror_mode": {
    "name": "ipython",
    "version": 3
   },
   "file_extension": ".py",
   "mimetype": "text/x-python",
   "name": "python",
   "nbconvert_exporter": "python",
   "pygments_lexer": "ipython3",
   "version": "3.11.3"
  }
 },
 "nbformat": 4,
 "nbformat_minor": 5
}
