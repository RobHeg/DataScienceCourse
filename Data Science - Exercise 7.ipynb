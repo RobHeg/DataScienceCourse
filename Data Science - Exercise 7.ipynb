{
 "cells": [
  {
   "cell_type": "markdown",
   "id": "1116e142",
   "metadata": {},
   "source": [
    "# Data Science - Exercise 7\n",
    "Data Cleaning and statistic Excercise"
   ]
  },
  {
   "cell_type": "markdown",
   "id": "7304ef43",
   "metadata": {},
   "source": [
    "Following is research data for investigating the disease situation in a given area. This research recruits volunteers who must be at least 40 years old.\n",
    "\n",
    "There are two files containing the patient's information\n",
    "\n",
    "Patient_information:\n",
    "\n",
    "Patient_ID: numeric the patient id with 7 digits\n",
    "Sex: string Male or Female\n",
    "Age: numeric The Age of recruitment\n",
    "BMI: numeric Body Mass Index, should be between 15-60\n",
    "Smoking_status: string Never, Previous, current, Prefer not to answer\n",
    "Disease: factor 1 means disease, 2 means healthy\n",
    "\n",
    "Hosptial Visit:\n",
    "Patient_ID: numeric the patient id with 7 digits\n",
    "VisitDate: Date, the date of the patient's visit hospital. the data is collected from the year 1950 to 2023\n",
    "\n",
    "Task : Data Clean\n",
    "\n",
    "1. The missing value from BMI can be replaced with the mean value of  its regarding gender\n",
    "2. Do the sanity check for all the columns in 2 files, and remove the sample which does not pass the sanity check\n",
    "3. Calculate the number of visits of each patient, if the VisitDate is missing, means they don't visit the hospital during that period\n",
    "4. Merge two files with columns: Patient_ID, Sex, Age, BMI, Smoking_status, Number_of_visit, Disease\n",
    "\n",
    "Task: Statistics (you don't need to check the model assumption in this exercise)\n",
    "\n",
    "1. Is the BMI different between the healthy and control group? make the box/violin chart\n",
    "2. Is the proportion of Smoke status different between the healthy and control group?\n",
    "3. Is the smoke status related to the number of Hospital visits regardless of the disease? (ignore the \"Prefer not to answer\")\n",
    "4. Is the number of visits higher in the Disease group than in the Healthy group?\n",
    "5. Do Male has a higher current smoke percentage compared to Female?\n",
    "\n",
    "please write a conclusion for each task, not only run the statistical test without an explanation"
   ]
  },
  {
   "cell_type": "markdown",
   "id": "a01fbc2c",
   "metadata": {},
   "source": [
    "---\n",
    "note: I keep calling the patient_id participant_id"
   ]
  },
  {
   "cell_type": "markdown",
   "id": "f596c1d6",
   "metadata": {},
   "source": [
    "# import datasets"
   ]
  },
  {
   "cell_type": "code",
   "execution_count": 1,
   "id": "bb2101b0",
   "metadata": {},
   "outputs": [
    {
     "data": {
      "text/html": [
       "<div>\n",
       "<style scoped>\n",
       "    .dataframe tbody tr th:only-of-type {\n",
       "        vertical-align: middle;\n",
       "    }\n",
       "\n",
       "    .dataframe tbody tr th {\n",
       "        vertical-align: top;\n",
       "    }\n",
       "\n",
       "    .dataframe thead th {\n",
       "        text-align: right;\n",
       "    }\n",
       "</style>\n",
       "<table border=\"1\" class=\"dataframe\">\n",
       "  <thead>\n",
       "    <tr style=\"text-align: right;\">\n",
       "      <th></th>\n",
       "      <th>Participant_ID</th>\n",
       "      <th>VisitDate</th>\n",
       "    </tr>\n",
       "  </thead>\n",
       "  <tbody>\n",
       "    <tr>\n",
       "      <th>0</th>\n",
       "      <td>1003300</td>\n",
       "      <td>1/7/2022</td>\n",
       "    </tr>\n",
       "    <tr>\n",
       "      <th>1</th>\n",
       "      <td>1003300</td>\n",
       "      <td>27/10/2021</td>\n",
       "    </tr>\n",
       "    <tr>\n",
       "      <th>2</th>\n",
       "      <td>1004025</td>\n",
       "      <td>19/05/2010</td>\n",
       "    </tr>\n",
       "    <tr>\n",
       "      <th>3</th>\n",
       "      <td>1005551</td>\n",
       "      <td>25/08/2021</td>\n",
       "    </tr>\n",
       "    <tr>\n",
       "      <th>4</th>\n",
       "      <td>1005551</td>\n",
       "      <td>29/06/2021</td>\n",
       "    </tr>\n",
       "    <tr>\n",
       "      <th>...</th>\n",
       "      <td>...</td>\n",
       "      <td>...</td>\n",
       "    </tr>\n",
       "    <tr>\n",
       "      <th>2886</th>\n",
       "      <td>6011693</td>\n",
       "      <td>27/10/2017</td>\n",
       "    </tr>\n",
       "    <tr>\n",
       "      <th>2887</th>\n",
       "      <td>6015403</td>\n",
       "      <td>14/08/2018</td>\n",
       "    </tr>\n",
       "    <tr>\n",
       "      <th>2888</th>\n",
       "      <td>6019982</td>\n",
       "      <td>19/01/2015</td>\n",
       "    </tr>\n",
       "    <tr>\n",
       "      <th>2889</th>\n",
       "      <td>6020094</td>\n",
       "      <td>13/06/2021</td>\n",
       "    </tr>\n",
       "    <tr>\n",
       "      <th>2890</th>\n",
       "      <td>6020094</td>\n",
       "      <td>22/04/2022</td>\n",
       "    </tr>\n",
       "  </tbody>\n",
       "</table>\n",
       "<p>2891 rows × 2 columns</p>\n",
       "</div>"
      ],
      "text/plain": [
       "      Participant_ID   VisitDate\n",
       "0            1003300    1/7/2022\n",
       "1            1003300  27/10/2021\n",
       "2            1004025  19/05/2010\n",
       "3            1005551  25/08/2021\n",
       "4            1005551  29/06/2021\n",
       "...              ...         ...\n",
       "2886         6011693  27/10/2017\n",
       "2887         6015403  14/08/2018\n",
       "2888         6019982  19/01/2015\n",
       "2889         6020094  13/06/2021\n",
       "2890         6020094  22/04/2022\n",
       "\n",
       "[2891 rows x 2 columns]"
      ]
     },
     "execution_count": 1,
     "metadata": {},
     "output_type": "execute_result"
    }
   ],
   "source": [
    "#Load date.csv\n",
    "import pandas as pd\n",
    "df_hospital_visit = pd.read_csv('https://github.com/WHPAN0108/BHT-DataScience-S23/blob/main/data_clean/data/date.csv?raw=true')\n",
    "df_hospital_visit"
   ]
  },
  {
   "cell_type": "code",
   "execution_count": 2,
   "id": "88fac886",
   "metadata": {},
   "outputs": [
    {
     "data": {
      "text/html": [
       "<div>\n",
       "<style scoped>\n",
       "    .dataframe tbody tr th:only-of-type {\n",
       "        vertical-align: middle;\n",
       "    }\n",
       "\n",
       "    .dataframe tbody tr th {\n",
       "        vertical-align: top;\n",
       "    }\n",
       "\n",
       "    .dataframe thead th {\n",
       "        text-align: right;\n",
       "    }\n",
       "</style>\n",
       "<table border=\"1\" class=\"dataframe\">\n",
       "  <thead>\n",
       "    <tr style=\"text-align: right;\">\n",
       "      <th></th>\n",
       "      <th>Participant_ID</th>\n",
       "      <th>Sex</th>\n",
       "      <th>Age</th>\n",
       "      <th>Smoking_status</th>\n",
       "      <th>BMI</th>\n",
       "      <th>Disease</th>\n",
       "    </tr>\n",
       "  </thead>\n",
       "  <tbody>\n",
       "    <tr>\n",
       "      <th>0</th>\n",
       "      <td>1003300</td>\n",
       "      <td>Male</td>\n",
       "      <td>62</td>\n",
       "      <td>Previous</td>\n",
       "      <td>33.7597</td>\n",
       "      <td>2</td>\n",
       "    </tr>\n",
       "    <tr>\n",
       "      <th>1</th>\n",
       "      <td>1004025</td>\n",
       "      <td>Male</td>\n",
       "      <td>60</td>\n",
       "      <td>Previous</td>\n",
       "      <td>28.1173</td>\n",
       "      <td>1</td>\n",
       "    </tr>\n",
       "    <tr>\n",
       "      <th>2</th>\n",
       "      <td>1005551</td>\n",
       "      <td>Male</td>\n",
       "      <td>69</td>\n",
       "      <td>Previous</td>\n",
       "      <td>26.4159</td>\n",
       "      <td>2</td>\n",
       "    </tr>\n",
       "    <tr>\n",
       "      <th>3</th>\n",
       "      <td>1005594</td>\n",
       "      <td>Male</td>\n",
       "      <td>64</td>\n",
       "      <td>Previous</td>\n",
       "      <td>24.7550</td>\n",
       "      <td>1</td>\n",
       "    </tr>\n",
       "    <tr>\n",
       "      <th>4</th>\n",
       "      <td>1005624</td>\n",
       "      <td>Male</td>\n",
       "      <td>64</td>\n",
       "      <td>Previous</td>\n",
       "      <td>35.0773</td>\n",
       "      <td>2</td>\n",
       "    </tr>\n",
       "    <tr>\n",
       "      <th>...</th>\n",
       "      <td>...</td>\n",
       "      <td>...</td>\n",
       "      <td>...</td>\n",
       "      <td>...</td>\n",
       "      <td>...</td>\n",
       "      <td>...</td>\n",
       "    </tr>\n",
       "    <tr>\n",
       "      <th>2213</th>\n",
       "      <td>6009769</td>\n",
       "      <td>Male</td>\n",
       "      <td>48</td>\n",
       "      <td>Previous</td>\n",
       "      <td>39.3345</td>\n",
       "      <td>2</td>\n",
       "    </tr>\n",
       "    <tr>\n",
       "      <th>2214</th>\n",
       "      <td>6011693</td>\n",
       "      <td>Male</td>\n",
       "      <td>62</td>\n",
       "      <td>Previous</td>\n",
       "      <td>30.8813</td>\n",
       "      <td>2</td>\n",
       "    </tr>\n",
       "    <tr>\n",
       "      <th>2215</th>\n",
       "      <td>6015403</td>\n",
       "      <td>Female</td>\n",
       "      <td>60</td>\n",
       "      <td>Previous</td>\n",
       "      <td>34.7276</td>\n",
       "      <td>1</td>\n",
       "    </tr>\n",
       "    <tr>\n",
       "      <th>2216</th>\n",
       "      <td>6019982</td>\n",
       "      <td>Male</td>\n",
       "      <td>54</td>\n",
       "      <td>Never</td>\n",
       "      <td>25.3287</td>\n",
       "      <td>2</td>\n",
       "    </tr>\n",
       "    <tr>\n",
       "      <th>2217</th>\n",
       "      <td>6020094</td>\n",
       "      <td>Female</td>\n",
       "      <td>63</td>\n",
       "      <td>Never</td>\n",
       "      <td>24.2972</td>\n",
       "      <td>2</td>\n",
       "    </tr>\n",
       "  </tbody>\n",
       "</table>\n",
       "<p>2218 rows × 6 columns</p>\n",
       "</div>"
      ],
      "text/plain": [
       "      Participant_ID     Sex  Age Smoking_status      BMI  Disease\n",
       "0            1003300    Male   62       Previous  33.7597        2\n",
       "1            1004025    Male   60       Previous  28.1173        1\n",
       "2            1005551    Male   69       Previous  26.4159        2\n",
       "3            1005594    Male   64       Previous  24.7550        1\n",
       "4            1005624    Male   64       Previous  35.0773        2\n",
       "...              ...     ...  ...            ...      ...      ...\n",
       "2213         6009769    Male   48       Previous  39.3345        2\n",
       "2214         6011693    Male   62       Previous  30.8813        2\n",
       "2215         6015403  Female   60       Previous  34.7276        1\n",
       "2216         6019982    Male   54          Never  25.3287        2\n",
       "2217         6020094  Female   63          Never  24.2972        2\n",
       "\n",
       "[2218 rows x 6 columns]"
      ]
     },
     "execution_count": 2,
     "metadata": {},
     "output_type": "execute_result"
    }
   ],
   "source": [
    "#Load patient_info.csv\n",
    "df_patient_info = pd.read_csv('https://github.com/WHPAN0108/BHT-DataScience-S23/blob/main/data_clean/data/patient_info.csv?raw=true')\n",
    "df_patient_info"
   ]
  },
  {
   "cell_type": "markdown",
   "id": "8a8481e1",
   "metadata": {},
   "source": [
    "#  replace missing BMI values with gender corresponding BMI values"
   ]
  },
  {
   "cell_type": "code",
   "execution_count": 3,
   "id": "5bb77489",
   "metadata": {
    "scrolled": true
   },
   "outputs": [
    {
     "data": {
      "text/plain": [
       "Participant_ID     1257234\n",
       "Sex                   Male\n",
       "Age                     69\n",
       "Smoking_status    Previous\n",
       "BMI                    NaN\n",
       "Disease                  1\n",
       "Name: 93, dtype: object"
      ]
     },
     "execution_count": 3,
     "metadata": {},
     "output_type": "execute_result"
    }
   ],
   "source": [
    "#there is a missing value for the BMI\n",
    "df_patient_info.iloc[93]"
   ]
  },
  {
   "cell_type": "code",
   "execution_count": 4,
   "id": "b8c14db7",
   "metadata": {},
   "outputs": [
    {
     "data": {
      "text/plain": [
       "29.09244492661136"
      ]
     },
     "execution_count": 4,
     "metadata": {},
     "output_type": "execute_result"
    }
   ],
   "source": [
    "#calculate the mean BMI for each Sex\n",
    "df_male = df_patient_info[df_patient_info['Sex'] == 'Male']\n",
    "df_female = df_patient_info[df_patient_info['Sex'] == 'Female']\n",
    "mean_bmi_male = df_male['BMI'].mean()\n",
    "mean_bmi_female = df_patient_info['BMI'].mean()\n",
    "mean_bmi_male"
   ]
  },
  {
   "cell_type": "code",
   "execution_count": 5,
   "id": "de69fc6a",
   "metadata": {},
   "outputs": [
    {
     "data": {
      "text/plain": [
       "Participant_ID      1257234\n",
       "Sex                    Male\n",
       "Age                      69\n",
       "Smoking_status     Previous\n",
       "BMI               29.092445\n",
       "Disease                   1\n",
       "Name: 93, dtype: object"
      ]
     },
     "execution_count": 5,
     "metadata": {},
     "output_type": "execute_result"
    }
   ],
   "source": [
    "#replace missing values from BMI with the mean of the same sex type\n",
    "df_patient_info.loc[(df_patient_info['BMI'].isnull()) & (df_patient_info['Sex'] == 'Male'), 'BMI'] = mean_bmi_male\n",
    "df_patient_info.loc[(df_patient_info['BMI'].isnull()) & (df_patient_info['Sex'] == 'Female'), 'BMI'] = mean_bmi_female\n",
    "df_patient_info.iloc[93]"
   ]
  },
  {
   "cell_type": "markdown",
   "id": "0d82ba83",
   "metadata": {},
   "source": [
    " # sanity check for df_patient_info"
   ]
  },
  {
   "cell_type": "code",
   "execution_count": 6,
   "id": "caf33187",
   "metadata": {},
   "outputs": [
    {
     "name": "stdout",
     "output_type": "stream",
     "text": [
      "Rows where Patient_ID is not numeric or does not have 7 digits:\n",
      "Empty DataFrame\n",
      "Columns: [Participant_ID, Sex, Age, Smoking_status, BMI, Disease]\n",
      "Index: []\n"
     ]
    },
    {
     "data": {
      "text/html": [
       "<div>\n",
       "<style scoped>\n",
       "    .dataframe tbody tr th:only-of-type {\n",
       "        vertical-align: middle;\n",
       "    }\n",
       "\n",
       "    .dataframe tbody tr th {\n",
       "        vertical-align: top;\n",
       "    }\n",
       "\n",
       "    .dataframe thead th {\n",
       "        text-align: right;\n",
       "    }\n",
       "</style>\n",
       "<table border=\"1\" class=\"dataframe\">\n",
       "  <thead>\n",
       "    <tr style=\"text-align: right;\">\n",
       "      <th></th>\n",
       "      <th>Participant_ID</th>\n",
       "      <th>Sex</th>\n",
       "      <th>Age</th>\n",
       "      <th>Smoking_status</th>\n",
       "      <th>BMI</th>\n",
       "      <th>Disease</th>\n",
       "    </tr>\n",
       "  </thead>\n",
       "  <tbody>\n",
       "    <tr>\n",
       "      <th>0</th>\n",
       "      <td>1003300</td>\n",
       "      <td>Male</td>\n",
       "      <td>62</td>\n",
       "      <td>Previous</td>\n",
       "      <td>33.7597</td>\n",
       "      <td>2</td>\n",
       "    </tr>\n",
       "    <tr>\n",
       "      <th>1</th>\n",
       "      <td>1004025</td>\n",
       "      <td>Male</td>\n",
       "      <td>60</td>\n",
       "      <td>Previous</td>\n",
       "      <td>28.1173</td>\n",
       "      <td>1</td>\n",
       "    </tr>\n",
       "    <tr>\n",
       "      <th>2</th>\n",
       "      <td>1005551</td>\n",
       "      <td>Male</td>\n",
       "      <td>69</td>\n",
       "      <td>Previous</td>\n",
       "      <td>26.4159</td>\n",
       "      <td>2</td>\n",
       "    </tr>\n",
       "    <tr>\n",
       "      <th>3</th>\n",
       "      <td>1005594</td>\n",
       "      <td>Male</td>\n",
       "      <td>64</td>\n",
       "      <td>Previous</td>\n",
       "      <td>24.7550</td>\n",
       "      <td>1</td>\n",
       "    </tr>\n",
       "    <tr>\n",
       "      <th>4</th>\n",
       "      <td>1005624</td>\n",
       "      <td>Male</td>\n",
       "      <td>64</td>\n",
       "      <td>Previous</td>\n",
       "      <td>35.0773</td>\n",
       "      <td>2</td>\n",
       "    </tr>\n",
       "    <tr>\n",
       "      <th>...</th>\n",
       "      <td>...</td>\n",
       "      <td>...</td>\n",
       "      <td>...</td>\n",
       "      <td>...</td>\n",
       "      <td>...</td>\n",
       "      <td>...</td>\n",
       "    </tr>\n",
       "    <tr>\n",
       "      <th>2213</th>\n",
       "      <td>6009769</td>\n",
       "      <td>Male</td>\n",
       "      <td>48</td>\n",
       "      <td>Previous</td>\n",
       "      <td>39.3345</td>\n",
       "      <td>2</td>\n",
       "    </tr>\n",
       "    <tr>\n",
       "      <th>2214</th>\n",
       "      <td>6011693</td>\n",
       "      <td>Male</td>\n",
       "      <td>62</td>\n",
       "      <td>Previous</td>\n",
       "      <td>30.8813</td>\n",
       "      <td>2</td>\n",
       "    </tr>\n",
       "    <tr>\n",
       "      <th>2215</th>\n",
       "      <td>6015403</td>\n",
       "      <td>Female</td>\n",
       "      <td>60</td>\n",
       "      <td>Previous</td>\n",
       "      <td>34.7276</td>\n",
       "      <td>1</td>\n",
       "    </tr>\n",
       "    <tr>\n",
       "      <th>2216</th>\n",
       "      <td>6019982</td>\n",
       "      <td>Male</td>\n",
       "      <td>54</td>\n",
       "      <td>Never</td>\n",
       "      <td>25.3287</td>\n",
       "      <td>2</td>\n",
       "    </tr>\n",
       "    <tr>\n",
       "      <th>2217</th>\n",
       "      <td>6020094</td>\n",
       "      <td>Female</td>\n",
       "      <td>63</td>\n",
       "      <td>Never</td>\n",
       "      <td>24.2972</td>\n",
       "      <td>2</td>\n",
       "    </tr>\n",
       "  </tbody>\n",
       "</table>\n",
       "<p>2218 rows × 6 columns</p>\n",
       "</div>"
      ],
      "text/plain": [
       "      Participant_ID     Sex  Age Smoking_status      BMI  Disease\n",
       "0            1003300    Male   62       Previous  33.7597        2\n",
       "1            1004025    Male   60       Previous  28.1173        1\n",
       "2            1005551    Male   69       Previous  26.4159        2\n",
       "3            1005594    Male   64       Previous  24.7550        1\n",
       "4            1005624    Male   64       Previous  35.0773        2\n",
       "...              ...     ...  ...            ...      ...      ...\n",
       "2213         6009769    Male   48       Previous  39.3345        2\n",
       "2214         6011693    Male   62       Previous  30.8813        2\n",
       "2215         6015403  Female   60       Previous  34.7276        1\n",
       "2216         6019982    Male   54          Never  25.3287        2\n",
       "2217         6020094  Female   63          Never  24.2972        2\n",
       "\n",
       "[2218 rows x 6 columns]"
      ]
     },
     "execution_count": 6,
     "metadata": {},
     "output_type": "execute_result"
    }
   ],
   "source": [
    "# Remove rows where 'Participant_ID' is not numeric or does not have 7 digits\n",
    "is_numeric = df_patient_info['Participant_ID'].astype(str).str.isnumeric()\n",
    "has_7_digits = df_patient_info['Participant_ID'].astype(str).str.len() == 7\n",
    "print(\"Rows where Patient_ID is not numeric or does not have 7 digits:\")\n",
    "print(df_patient_info[~(is_numeric & has_7_digits)])\n",
    "df_patient_info = df_patient_info[is_numeric & has_7_digits]\n",
    "df_patient_info"
   ]
  },
  {
   "cell_type": "code",
   "execution_count": 7,
   "id": "e1ecb9f6",
   "metadata": {},
   "outputs": [
    {
     "name": "stdout",
     "output_type": "stream",
     "text": [
      "Rows where Sex is not 'Male' or 'Female':\n",
      "Empty DataFrame\n",
      "Columns: [Participant_ID, Sex, Age, Smoking_status, BMI, Disease]\n",
      "Index: []\n"
     ]
    },
    {
     "data": {
      "text/html": [
       "<div>\n",
       "<style scoped>\n",
       "    .dataframe tbody tr th:only-of-type {\n",
       "        vertical-align: middle;\n",
       "    }\n",
       "\n",
       "    .dataframe tbody tr th {\n",
       "        vertical-align: top;\n",
       "    }\n",
       "\n",
       "    .dataframe thead th {\n",
       "        text-align: right;\n",
       "    }\n",
       "</style>\n",
       "<table border=\"1\" class=\"dataframe\">\n",
       "  <thead>\n",
       "    <tr style=\"text-align: right;\">\n",
       "      <th></th>\n",
       "      <th>Participant_ID</th>\n",
       "      <th>Sex</th>\n",
       "      <th>Age</th>\n",
       "      <th>Smoking_status</th>\n",
       "      <th>BMI</th>\n",
       "      <th>Disease</th>\n",
       "    </tr>\n",
       "  </thead>\n",
       "  <tbody>\n",
       "    <tr>\n",
       "      <th>0</th>\n",
       "      <td>1003300</td>\n",
       "      <td>Male</td>\n",
       "      <td>62</td>\n",
       "      <td>Previous</td>\n",
       "      <td>33.7597</td>\n",
       "      <td>2</td>\n",
       "    </tr>\n",
       "    <tr>\n",
       "      <th>1</th>\n",
       "      <td>1004025</td>\n",
       "      <td>Male</td>\n",
       "      <td>60</td>\n",
       "      <td>Previous</td>\n",
       "      <td>28.1173</td>\n",
       "      <td>1</td>\n",
       "    </tr>\n",
       "    <tr>\n",
       "      <th>2</th>\n",
       "      <td>1005551</td>\n",
       "      <td>Male</td>\n",
       "      <td>69</td>\n",
       "      <td>Previous</td>\n",
       "      <td>26.4159</td>\n",
       "      <td>2</td>\n",
       "    </tr>\n",
       "    <tr>\n",
       "      <th>3</th>\n",
       "      <td>1005594</td>\n",
       "      <td>Male</td>\n",
       "      <td>64</td>\n",
       "      <td>Previous</td>\n",
       "      <td>24.7550</td>\n",
       "      <td>1</td>\n",
       "    </tr>\n",
       "    <tr>\n",
       "      <th>4</th>\n",
       "      <td>1005624</td>\n",
       "      <td>Male</td>\n",
       "      <td>64</td>\n",
       "      <td>Previous</td>\n",
       "      <td>35.0773</td>\n",
       "      <td>2</td>\n",
       "    </tr>\n",
       "    <tr>\n",
       "      <th>...</th>\n",
       "      <td>...</td>\n",
       "      <td>...</td>\n",
       "      <td>...</td>\n",
       "      <td>...</td>\n",
       "      <td>...</td>\n",
       "      <td>...</td>\n",
       "    </tr>\n",
       "    <tr>\n",
       "      <th>2213</th>\n",
       "      <td>6009769</td>\n",
       "      <td>Male</td>\n",
       "      <td>48</td>\n",
       "      <td>Previous</td>\n",
       "      <td>39.3345</td>\n",
       "      <td>2</td>\n",
       "    </tr>\n",
       "    <tr>\n",
       "      <th>2214</th>\n",
       "      <td>6011693</td>\n",
       "      <td>Male</td>\n",
       "      <td>62</td>\n",
       "      <td>Previous</td>\n",
       "      <td>30.8813</td>\n",
       "      <td>2</td>\n",
       "    </tr>\n",
       "    <tr>\n",
       "      <th>2215</th>\n",
       "      <td>6015403</td>\n",
       "      <td>Female</td>\n",
       "      <td>60</td>\n",
       "      <td>Previous</td>\n",
       "      <td>34.7276</td>\n",
       "      <td>1</td>\n",
       "    </tr>\n",
       "    <tr>\n",
       "      <th>2216</th>\n",
       "      <td>6019982</td>\n",
       "      <td>Male</td>\n",
       "      <td>54</td>\n",
       "      <td>Never</td>\n",
       "      <td>25.3287</td>\n",
       "      <td>2</td>\n",
       "    </tr>\n",
       "    <tr>\n",
       "      <th>2217</th>\n",
       "      <td>6020094</td>\n",
       "      <td>Female</td>\n",
       "      <td>63</td>\n",
       "      <td>Never</td>\n",
       "      <td>24.2972</td>\n",
       "      <td>2</td>\n",
       "    </tr>\n",
       "  </tbody>\n",
       "</table>\n",
       "<p>2218 rows × 6 columns</p>\n",
       "</div>"
      ],
      "text/plain": [
       "      Participant_ID     Sex  Age Smoking_status      BMI  Disease\n",
       "0            1003300    Male   62       Previous  33.7597        2\n",
       "1            1004025    Male   60       Previous  28.1173        1\n",
       "2            1005551    Male   69       Previous  26.4159        2\n",
       "3            1005594    Male   64       Previous  24.7550        1\n",
       "4            1005624    Male   64       Previous  35.0773        2\n",
       "...              ...     ...  ...            ...      ...      ...\n",
       "2213         6009769    Male   48       Previous  39.3345        2\n",
       "2214         6011693    Male   62       Previous  30.8813        2\n",
       "2215         6015403  Female   60       Previous  34.7276        1\n",
       "2216         6019982    Male   54          Never  25.3287        2\n",
       "2217         6020094  Female   63          Never  24.2972        2\n",
       "\n",
       "[2218 rows x 6 columns]"
      ]
     },
     "execution_count": 7,
     "metadata": {},
     "output_type": "execute_result"
    }
   ],
   "source": [
    "# Remove rows where Sex is not 'Male' or 'Female'\n",
    "print(\"Rows where Sex is not 'Male' or 'Female':\")\n",
    "print(df_patient_info[~df_patient_info['Sex'].isin(['Male', 'Female'])])\n",
    "df_patient_info = df_patient_info[df_patient_info['Sex'].isin(['Male', 'Female'])]\n",
    "df_patient_info"
   ]
  },
  {
   "cell_type": "code",
   "execution_count": 8,
   "id": "bc4d1bac",
   "metadata": {},
   "outputs": [
    {
     "name": "stdout",
     "output_type": "stream",
     "text": [
      "Rows where Age is not numeric:\n",
      "Empty DataFrame\n",
      "Columns: [Participant_ID, Sex, Age, Smoking_status, BMI, Disease]\n",
      "Index: []\n"
     ]
    },
    {
     "data": {
      "text/html": [
       "<div>\n",
       "<style scoped>\n",
       "    .dataframe tbody tr th:only-of-type {\n",
       "        vertical-align: middle;\n",
       "    }\n",
       "\n",
       "    .dataframe tbody tr th {\n",
       "        vertical-align: top;\n",
       "    }\n",
       "\n",
       "    .dataframe thead th {\n",
       "        text-align: right;\n",
       "    }\n",
       "</style>\n",
       "<table border=\"1\" class=\"dataframe\">\n",
       "  <thead>\n",
       "    <tr style=\"text-align: right;\">\n",
       "      <th></th>\n",
       "      <th>Participant_ID</th>\n",
       "      <th>Sex</th>\n",
       "      <th>Age</th>\n",
       "      <th>Smoking_status</th>\n",
       "      <th>BMI</th>\n",
       "      <th>Disease</th>\n",
       "    </tr>\n",
       "  </thead>\n",
       "  <tbody>\n",
       "    <tr>\n",
       "      <th>0</th>\n",
       "      <td>1003300</td>\n",
       "      <td>Male</td>\n",
       "      <td>62</td>\n",
       "      <td>Previous</td>\n",
       "      <td>33.7597</td>\n",
       "      <td>2</td>\n",
       "    </tr>\n",
       "    <tr>\n",
       "      <th>1</th>\n",
       "      <td>1004025</td>\n",
       "      <td>Male</td>\n",
       "      <td>60</td>\n",
       "      <td>Previous</td>\n",
       "      <td>28.1173</td>\n",
       "      <td>1</td>\n",
       "    </tr>\n",
       "    <tr>\n",
       "      <th>2</th>\n",
       "      <td>1005551</td>\n",
       "      <td>Male</td>\n",
       "      <td>69</td>\n",
       "      <td>Previous</td>\n",
       "      <td>26.4159</td>\n",
       "      <td>2</td>\n",
       "    </tr>\n",
       "    <tr>\n",
       "      <th>3</th>\n",
       "      <td>1005594</td>\n",
       "      <td>Male</td>\n",
       "      <td>64</td>\n",
       "      <td>Previous</td>\n",
       "      <td>24.7550</td>\n",
       "      <td>1</td>\n",
       "    </tr>\n",
       "    <tr>\n",
       "      <th>4</th>\n",
       "      <td>1005624</td>\n",
       "      <td>Male</td>\n",
       "      <td>64</td>\n",
       "      <td>Previous</td>\n",
       "      <td>35.0773</td>\n",
       "      <td>2</td>\n",
       "    </tr>\n",
       "    <tr>\n",
       "      <th>...</th>\n",
       "      <td>...</td>\n",
       "      <td>...</td>\n",
       "      <td>...</td>\n",
       "      <td>...</td>\n",
       "      <td>...</td>\n",
       "      <td>...</td>\n",
       "    </tr>\n",
       "    <tr>\n",
       "      <th>2213</th>\n",
       "      <td>6009769</td>\n",
       "      <td>Male</td>\n",
       "      <td>48</td>\n",
       "      <td>Previous</td>\n",
       "      <td>39.3345</td>\n",
       "      <td>2</td>\n",
       "    </tr>\n",
       "    <tr>\n",
       "      <th>2214</th>\n",
       "      <td>6011693</td>\n",
       "      <td>Male</td>\n",
       "      <td>62</td>\n",
       "      <td>Previous</td>\n",
       "      <td>30.8813</td>\n",
       "      <td>2</td>\n",
       "    </tr>\n",
       "    <tr>\n",
       "      <th>2215</th>\n",
       "      <td>6015403</td>\n",
       "      <td>Female</td>\n",
       "      <td>60</td>\n",
       "      <td>Previous</td>\n",
       "      <td>34.7276</td>\n",
       "      <td>1</td>\n",
       "    </tr>\n",
       "    <tr>\n",
       "      <th>2216</th>\n",
       "      <td>6019982</td>\n",
       "      <td>Male</td>\n",
       "      <td>54</td>\n",
       "      <td>Never</td>\n",
       "      <td>25.3287</td>\n",
       "      <td>2</td>\n",
       "    </tr>\n",
       "    <tr>\n",
       "      <th>2217</th>\n",
       "      <td>6020094</td>\n",
       "      <td>Female</td>\n",
       "      <td>63</td>\n",
       "      <td>Never</td>\n",
       "      <td>24.2972</td>\n",
       "      <td>2</td>\n",
       "    </tr>\n",
       "  </tbody>\n",
       "</table>\n",
       "<p>2218 rows × 6 columns</p>\n",
       "</div>"
      ],
      "text/plain": [
       "      Participant_ID     Sex  Age Smoking_status      BMI  Disease\n",
       "0            1003300    Male   62       Previous  33.7597        2\n",
       "1            1004025    Male   60       Previous  28.1173        1\n",
       "2            1005551    Male   69       Previous  26.4159        2\n",
       "3            1005594    Male   64       Previous  24.7550        1\n",
       "4            1005624    Male   64       Previous  35.0773        2\n",
       "...              ...     ...  ...            ...      ...      ...\n",
       "2213         6009769    Male   48       Previous  39.3345        2\n",
       "2214         6011693    Male   62       Previous  30.8813        2\n",
       "2215         6015403  Female   60       Previous  34.7276        1\n",
       "2216         6019982    Male   54          Never  25.3287        2\n",
       "2217         6020094  Female   63          Never  24.2972        2\n",
       "\n",
       "[2218 rows x 6 columns]"
      ]
     },
     "execution_count": 8,
     "metadata": {},
     "output_type": "execute_result"
    }
   ],
   "source": [
    "# Remove rows where Age is not numeric\n",
    "print(\"Rows where Age is not numeric:\")\n",
    "print(df_patient_info[~df_patient_info['Age'].astype(str).str.isnumeric()])\n",
    "df_patient_info = df_patient_info[df_patient_info['Age'].astype(str).str.isnumeric()]\n",
    "df_patient_info"
   ]
  },
  {
   "cell_type": "code",
   "execution_count": 9,
   "id": "c807d272",
   "metadata": {},
   "outputs": [
    {
     "name": "stdout",
     "output_type": "stream",
     "text": [
      "Rows where BMI is not between 15 and 60:\n",
      "      Participant_ID   Sex  Age Smoking_status       BMI  Disease\n",
      "305          1744690  Male   63       Previous  -31.4133        2\n",
      "1391         4211238  Male   68       Previous  100.3570        1\n"
     ]
    },
    {
     "data": {
      "text/html": [
       "<div>\n",
       "<style scoped>\n",
       "    .dataframe tbody tr th:only-of-type {\n",
       "        vertical-align: middle;\n",
       "    }\n",
       "\n",
       "    .dataframe tbody tr th {\n",
       "        vertical-align: top;\n",
       "    }\n",
       "\n",
       "    .dataframe thead th {\n",
       "        text-align: right;\n",
       "    }\n",
       "</style>\n",
       "<table border=\"1\" class=\"dataframe\">\n",
       "  <thead>\n",
       "    <tr style=\"text-align: right;\">\n",
       "      <th></th>\n",
       "      <th>Participant_ID</th>\n",
       "      <th>Sex</th>\n",
       "      <th>Age</th>\n",
       "      <th>Smoking_status</th>\n",
       "      <th>BMI</th>\n",
       "      <th>Disease</th>\n",
       "    </tr>\n",
       "  </thead>\n",
       "  <tbody>\n",
       "    <tr>\n",
       "      <th>0</th>\n",
       "      <td>1003300</td>\n",
       "      <td>Male</td>\n",
       "      <td>62</td>\n",
       "      <td>Previous</td>\n",
       "      <td>33.7597</td>\n",
       "      <td>2</td>\n",
       "    </tr>\n",
       "    <tr>\n",
       "      <th>1</th>\n",
       "      <td>1004025</td>\n",
       "      <td>Male</td>\n",
       "      <td>60</td>\n",
       "      <td>Previous</td>\n",
       "      <td>28.1173</td>\n",
       "      <td>1</td>\n",
       "    </tr>\n",
       "    <tr>\n",
       "      <th>2</th>\n",
       "      <td>1005551</td>\n",
       "      <td>Male</td>\n",
       "      <td>69</td>\n",
       "      <td>Previous</td>\n",
       "      <td>26.4159</td>\n",
       "      <td>2</td>\n",
       "    </tr>\n",
       "    <tr>\n",
       "      <th>3</th>\n",
       "      <td>1005594</td>\n",
       "      <td>Male</td>\n",
       "      <td>64</td>\n",
       "      <td>Previous</td>\n",
       "      <td>24.7550</td>\n",
       "      <td>1</td>\n",
       "    </tr>\n",
       "    <tr>\n",
       "      <th>4</th>\n",
       "      <td>1005624</td>\n",
       "      <td>Male</td>\n",
       "      <td>64</td>\n",
       "      <td>Previous</td>\n",
       "      <td>35.0773</td>\n",
       "      <td>2</td>\n",
       "    </tr>\n",
       "    <tr>\n",
       "      <th>...</th>\n",
       "      <td>...</td>\n",
       "      <td>...</td>\n",
       "      <td>...</td>\n",
       "      <td>...</td>\n",
       "      <td>...</td>\n",
       "      <td>...</td>\n",
       "    </tr>\n",
       "    <tr>\n",
       "      <th>2213</th>\n",
       "      <td>6009769</td>\n",
       "      <td>Male</td>\n",
       "      <td>48</td>\n",
       "      <td>Previous</td>\n",
       "      <td>39.3345</td>\n",
       "      <td>2</td>\n",
       "    </tr>\n",
       "    <tr>\n",
       "      <th>2214</th>\n",
       "      <td>6011693</td>\n",
       "      <td>Male</td>\n",
       "      <td>62</td>\n",
       "      <td>Previous</td>\n",
       "      <td>30.8813</td>\n",
       "      <td>2</td>\n",
       "    </tr>\n",
       "    <tr>\n",
       "      <th>2215</th>\n",
       "      <td>6015403</td>\n",
       "      <td>Female</td>\n",
       "      <td>60</td>\n",
       "      <td>Previous</td>\n",
       "      <td>34.7276</td>\n",
       "      <td>1</td>\n",
       "    </tr>\n",
       "    <tr>\n",
       "      <th>2216</th>\n",
       "      <td>6019982</td>\n",
       "      <td>Male</td>\n",
       "      <td>54</td>\n",
       "      <td>Never</td>\n",
       "      <td>25.3287</td>\n",
       "      <td>2</td>\n",
       "    </tr>\n",
       "    <tr>\n",
       "      <th>2217</th>\n",
       "      <td>6020094</td>\n",
       "      <td>Female</td>\n",
       "      <td>63</td>\n",
       "      <td>Never</td>\n",
       "      <td>24.2972</td>\n",
       "      <td>2</td>\n",
       "    </tr>\n",
       "  </tbody>\n",
       "</table>\n",
       "<p>2216 rows × 6 columns</p>\n",
       "</div>"
      ],
      "text/plain": [
       "      Participant_ID     Sex  Age Smoking_status      BMI  Disease\n",
       "0            1003300    Male   62       Previous  33.7597        2\n",
       "1            1004025    Male   60       Previous  28.1173        1\n",
       "2            1005551    Male   69       Previous  26.4159        2\n",
       "3            1005594    Male   64       Previous  24.7550        1\n",
       "4            1005624    Male   64       Previous  35.0773        2\n",
       "...              ...     ...  ...            ...      ...      ...\n",
       "2213         6009769    Male   48       Previous  39.3345        2\n",
       "2214         6011693    Male   62       Previous  30.8813        2\n",
       "2215         6015403  Female   60       Previous  34.7276        1\n",
       "2216         6019982    Male   54          Never  25.3287        2\n",
       "2217         6020094  Female   63          Never  24.2972        2\n",
       "\n",
       "[2216 rows x 6 columns]"
      ]
     },
     "execution_count": 9,
     "metadata": {},
     "output_type": "execute_result"
    }
   ],
   "source": [
    "# Remove rows where BMI is not between 15 and 60\n",
    "is_above_15 = df_patient_info['BMI'] >= 15\n",
    "is_below_60 = df_patient_info['BMI'] <= 60\n",
    "print(\"Rows where BMI is not between 15 and 60:\")\n",
    "print(df_patient_info[~(is_above_15 & is_below_60)])\n",
    "df_patient_info = df_patient_info[is_above_15 & is_below_60]\n",
    "df_patient_info\n",
    "#found 2 in rows 305 and 1391"
   ]
  },
  {
   "cell_type": "code",
   "execution_count": 10,
   "id": "36ba6605",
   "metadata": {},
   "outputs": [
    {
     "name": "stdout",
     "output_type": "stream",
     "text": [
      "Rows where Smoking_status is not one of the specified values:\n",
      "      Participant_ID     Sex  Age Smoking_status      BMI  Disease\n",
      "1255         3919665  Female   67            NaN  25.0331        2\n",
      "1340         4113188    Male   67            NaN  29.0688        2\n",
      "1826         5135454    Male   53            NaN  36.1323        2\n"
     ]
    },
    {
     "data": {
      "text/html": [
       "<div>\n",
       "<style scoped>\n",
       "    .dataframe tbody tr th:only-of-type {\n",
       "        vertical-align: middle;\n",
       "    }\n",
       "\n",
       "    .dataframe tbody tr th {\n",
       "        vertical-align: top;\n",
       "    }\n",
       "\n",
       "    .dataframe thead th {\n",
       "        text-align: right;\n",
       "    }\n",
       "</style>\n",
       "<table border=\"1\" class=\"dataframe\">\n",
       "  <thead>\n",
       "    <tr style=\"text-align: right;\">\n",
       "      <th></th>\n",
       "      <th>Participant_ID</th>\n",
       "      <th>Sex</th>\n",
       "      <th>Age</th>\n",
       "      <th>Smoking_status</th>\n",
       "      <th>BMI</th>\n",
       "      <th>Disease</th>\n",
       "    </tr>\n",
       "  </thead>\n",
       "  <tbody>\n",
       "    <tr>\n",
       "      <th>0</th>\n",
       "      <td>1003300</td>\n",
       "      <td>Male</td>\n",
       "      <td>62</td>\n",
       "      <td>Previous</td>\n",
       "      <td>33.7597</td>\n",
       "      <td>2</td>\n",
       "    </tr>\n",
       "    <tr>\n",
       "      <th>1</th>\n",
       "      <td>1004025</td>\n",
       "      <td>Male</td>\n",
       "      <td>60</td>\n",
       "      <td>Previous</td>\n",
       "      <td>28.1173</td>\n",
       "      <td>1</td>\n",
       "    </tr>\n",
       "    <tr>\n",
       "      <th>2</th>\n",
       "      <td>1005551</td>\n",
       "      <td>Male</td>\n",
       "      <td>69</td>\n",
       "      <td>Previous</td>\n",
       "      <td>26.4159</td>\n",
       "      <td>2</td>\n",
       "    </tr>\n",
       "    <tr>\n",
       "      <th>3</th>\n",
       "      <td>1005594</td>\n",
       "      <td>Male</td>\n",
       "      <td>64</td>\n",
       "      <td>Previous</td>\n",
       "      <td>24.7550</td>\n",
       "      <td>1</td>\n",
       "    </tr>\n",
       "    <tr>\n",
       "      <th>4</th>\n",
       "      <td>1005624</td>\n",
       "      <td>Male</td>\n",
       "      <td>64</td>\n",
       "      <td>Previous</td>\n",
       "      <td>35.0773</td>\n",
       "      <td>2</td>\n",
       "    </tr>\n",
       "    <tr>\n",
       "      <th>...</th>\n",
       "      <td>...</td>\n",
       "      <td>...</td>\n",
       "      <td>...</td>\n",
       "      <td>...</td>\n",
       "      <td>...</td>\n",
       "      <td>...</td>\n",
       "    </tr>\n",
       "    <tr>\n",
       "      <th>2213</th>\n",
       "      <td>6009769</td>\n",
       "      <td>Male</td>\n",
       "      <td>48</td>\n",
       "      <td>Previous</td>\n",
       "      <td>39.3345</td>\n",
       "      <td>2</td>\n",
       "    </tr>\n",
       "    <tr>\n",
       "      <th>2214</th>\n",
       "      <td>6011693</td>\n",
       "      <td>Male</td>\n",
       "      <td>62</td>\n",
       "      <td>Previous</td>\n",
       "      <td>30.8813</td>\n",
       "      <td>2</td>\n",
       "    </tr>\n",
       "    <tr>\n",
       "      <th>2215</th>\n",
       "      <td>6015403</td>\n",
       "      <td>Female</td>\n",
       "      <td>60</td>\n",
       "      <td>Previous</td>\n",
       "      <td>34.7276</td>\n",
       "      <td>1</td>\n",
       "    </tr>\n",
       "    <tr>\n",
       "      <th>2216</th>\n",
       "      <td>6019982</td>\n",
       "      <td>Male</td>\n",
       "      <td>54</td>\n",
       "      <td>Never</td>\n",
       "      <td>25.3287</td>\n",
       "      <td>2</td>\n",
       "    </tr>\n",
       "    <tr>\n",
       "      <th>2217</th>\n",
       "      <td>6020094</td>\n",
       "      <td>Female</td>\n",
       "      <td>63</td>\n",
       "      <td>Never</td>\n",
       "      <td>24.2972</td>\n",
       "      <td>2</td>\n",
       "    </tr>\n",
       "  </tbody>\n",
       "</table>\n",
       "<p>2213 rows × 6 columns</p>\n",
       "</div>"
      ],
      "text/plain": [
       "      Participant_ID     Sex  Age Smoking_status      BMI  Disease\n",
       "0            1003300    Male   62       Previous  33.7597        2\n",
       "1            1004025    Male   60       Previous  28.1173        1\n",
       "2            1005551    Male   69       Previous  26.4159        2\n",
       "3            1005594    Male   64       Previous  24.7550        1\n",
       "4            1005624    Male   64       Previous  35.0773        2\n",
       "...              ...     ...  ...            ...      ...      ...\n",
       "2213         6009769    Male   48       Previous  39.3345        2\n",
       "2214         6011693    Male   62       Previous  30.8813        2\n",
       "2215         6015403  Female   60       Previous  34.7276        1\n",
       "2216         6019982    Male   54          Never  25.3287        2\n",
       "2217         6020094  Female   63          Never  24.2972        2\n",
       "\n",
       "[2213 rows x 6 columns]"
      ]
     },
     "execution_count": 10,
     "metadata": {},
     "output_type": "execute_result"
    }
   ],
   "source": [
    "# Remove rows where Smoking_status is not one of the specified values\n",
    "print(\"Rows where Smoking_status is not one of the specified values:\")\n",
    "print(df_patient_info[~df_patient_info['Smoking_status'].isin(['Never', 'Previous', 'Current', 'Prefer not to answer'])])\n",
    "df_patient_info = df_patient_info[df_patient_info['Smoking_status'].isin(['Never', 'Previous', 'Current', 'Prefer not to answer'])]\n",
    "df_patient_info\n",
    "#found 3 in lines 1255, 1340 and 1926 with NaN values"
   ]
  },
  {
   "cell_type": "code",
   "execution_count": 11,
   "id": "79f89655",
   "metadata": {},
   "outputs": [
    {
     "name": "stdout",
     "output_type": "stream",
     "text": [
      "Rows where Disease is not 1 or 2:\n",
      "Empty DataFrame\n",
      "Columns: [Participant_ID, Sex, Age, Smoking_status, BMI, Disease]\n",
      "Index: []\n"
     ]
    },
    {
     "data": {
      "text/html": [
       "<div>\n",
       "<style scoped>\n",
       "    .dataframe tbody tr th:only-of-type {\n",
       "        vertical-align: middle;\n",
       "    }\n",
       "\n",
       "    .dataframe tbody tr th {\n",
       "        vertical-align: top;\n",
       "    }\n",
       "\n",
       "    .dataframe thead th {\n",
       "        text-align: right;\n",
       "    }\n",
       "</style>\n",
       "<table border=\"1\" class=\"dataframe\">\n",
       "  <thead>\n",
       "    <tr style=\"text-align: right;\">\n",
       "      <th></th>\n",
       "      <th>Participant_ID</th>\n",
       "      <th>Sex</th>\n",
       "      <th>Age</th>\n",
       "      <th>Smoking_status</th>\n",
       "      <th>BMI</th>\n",
       "      <th>Disease</th>\n",
       "    </tr>\n",
       "  </thead>\n",
       "  <tbody>\n",
       "    <tr>\n",
       "      <th>0</th>\n",
       "      <td>1003300</td>\n",
       "      <td>Male</td>\n",
       "      <td>62</td>\n",
       "      <td>Previous</td>\n",
       "      <td>33.7597</td>\n",
       "      <td>2</td>\n",
       "    </tr>\n",
       "    <tr>\n",
       "      <th>1</th>\n",
       "      <td>1004025</td>\n",
       "      <td>Male</td>\n",
       "      <td>60</td>\n",
       "      <td>Previous</td>\n",
       "      <td>28.1173</td>\n",
       "      <td>1</td>\n",
       "    </tr>\n",
       "    <tr>\n",
       "      <th>2</th>\n",
       "      <td>1005551</td>\n",
       "      <td>Male</td>\n",
       "      <td>69</td>\n",
       "      <td>Previous</td>\n",
       "      <td>26.4159</td>\n",
       "      <td>2</td>\n",
       "    </tr>\n",
       "    <tr>\n",
       "      <th>3</th>\n",
       "      <td>1005594</td>\n",
       "      <td>Male</td>\n",
       "      <td>64</td>\n",
       "      <td>Previous</td>\n",
       "      <td>24.7550</td>\n",
       "      <td>1</td>\n",
       "    </tr>\n",
       "    <tr>\n",
       "      <th>4</th>\n",
       "      <td>1005624</td>\n",
       "      <td>Male</td>\n",
       "      <td>64</td>\n",
       "      <td>Previous</td>\n",
       "      <td>35.0773</td>\n",
       "      <td>2</td>\n",
       "    </tr>\n",
       "    <tr>\n",
       "      <th>...</th>\n",
       "      <td>...</td>\n",
       "      <td>...</td>\n",
       "      <td>...</td>\n",
       "      <td>...</td>\n",
       "      <td>...</td>\n",
       "      <td>...</td>\n",
       "    </tr>\n",
       "    <tr>\n",
       "      <th>2213</th>\n",
       "      <td>6009769</td>\n",
       "      <td>Male</td>\n",
       "      <td>48</td>\n",
       "      <td>Previous</td>\n",
       "      <td>39.3345</td>\n",
       "      <td>2</td>\n",
       "    </tr>\n",
       "    <tr>\n",
       "      <th>2214</th>\n",
       "      <td>6011693</td>\n",
       "      <td>Male</td>\n",
       "      <td>62</td>\n",
       "      <td>Previous</td>\n",
       "      <td>30.8813</td>\n",
       "      <td>2</td>\n",
       "    </tr>\n",
       "    <tr>\n",
       "      <th>2215</th>\n",
       "      <td>6015403</td>\n",
       "      <td>Female</td>\n",
       "      <td>60</td>\n",
       "      <td>Previous</td>\n",
       "      <td>34.7276</td>\n",
       "      <td>1</td>\n",
       "    </tr>\n",
       "    <tr>\n",
       "      <th>2216</th>\n",
       "      <td>6019982</td>\n",
       "      <td>Male</td>\n",
       "      <td>54</td>\n",
       "      <td>Never</td>\n",
       "      <td>25.3287</td>\n",
       "      <td>2</td>\n",
       "    </tr>\n",
       "    <tr>\n",
       "      <th>2217</th>\n",
       "      <td>6020094</td>\n",
       "      <td>Female</td>\n",
       "      <td>63</td>\n",
       "      <td>Never</td>\n",
       "      <td>24.2972</td>\n",
       "      <td>2</td>\n",
       "    </tr>\n",
       "  </tbody>\n",
       "</table>\n",
       "<p>2213 rows × 6 columns</p>\n",
       "</div>"
      ],
      "text/plain": [
       "      Participant_ID     Sex  Age Smoking_status      BMI  Disease\n",
       "0            1003300    Male   62       Previous  33.7597        2\n",
       "1            1004025    Male   60       Previous  28.1173        1\n",
       "2            1005551    Male   69       Previous  26.4159        2\n",
       "3            1005594    Male   64       Previous  24.7550        1\n",
       "4            1005624    Male   64       Previous  35.0773        2\n",
       "...              ...     ...  ...            ...      ...      ...\n",
       "2213         6009769    Male   48       Previous  39.3345        2\n",
       "2214         6011693    Male   62       Previous  30.8813        2\n",
       "2215         6015403  Female   60       Previous  34.7276        1\n",
       "2216         6019982    Male   54          Never  25.3287        2\n",
       "2217         6020094  Female   63          Never  24.2972        2\n",
       "\n",
       "[2213 rows x 6 columns]"
      ]
     },
     "execution_count": 11,
     "metadata": {},
     "output_type": "execute_result"
    }
   ],
   "source": [
    "# Remove rows where Disease is not 1 or 2\n",
    "print(\"Rows where Disease is not 1 or 2:\")\n",
    "print(df_patient_info[~df_patient_info['Disease'].isin([1, 2])])\n",
    "df_patient_info = df_patient_info[df_patient_info['Disease'].isin([1, 2])]\n",
    "df_patient_info"
   ]
  },
  {
   "cell_type": "markdown",
   "id": "33ceeaa5",
   "metadata": {},
   "source": [
    "# sanity check for df_hospital_visit"
   ]
  },
  {
   "cell_type": "code",
   "execution_count": 12,
   "id": "dddabfc9",
   "metadata": {},
   "outputs": [
    {
     "name": "stdout",
     "output_type": "stream",
     "text": [
      "Rows where Patient_ID is not numeric or does not have 7 digits:\n",
      "Empty DataFrame\n",
      "Columns: [Participant_ID, VisitDate]\n",
      "Index: []\n"
     ]
    },
    {
     "data": {
      "text/html": [
       "<div>\n",
       "<style scoped>\n",
       "    .dataframe tbody tr th:only-of-type {\n",
       "        vertical-align: middle;\n",
       "    }\n",
       "\n",
       "    .dataframe tbody tr th {\n",
       "        vertical-align: top;\n",
       "    }\n",
       "\n",
       "    .dataframe thead th {\n",
       "        text-align: right;\n",
       "    }\n",
       "</style>\n",
       "<table border=\"1\" class=\"dataframe\">\n",
       "  <thead>\n",
       "    <tr style=\"text-align: right;\">\n",
       "      <th></th>\n",
       "      <th>Participant_ID</th>\n",
       "      <th>VisitDate</th>\n",
       "    </tr>\n",
       "  </thead>\n",
       "  <tbody>\n",
       "    <tr>\n",
       "      <th>0</th>\n",
       "      <td>1003300</td>\n",
       "      <td>1/7/2022</td>\n",
       "    </tr>\n",
       "    <tr>\n",
       "      <th>1</th>\n",
       "      <td>1003300</td>\n",
       "      <td>27/10/2021</td>\n",
       "    </tr>\n",
       "    <tr>\n",
       "      <th>2</th>\n",
       "      <td>1004025</td>\n",
       "      <td>19/05/2010</td>\n",
       "    </tr>\n",
       "    <tr>\n",
       "      <th>3</th>\n",
       "      <td>1005551</td>\n",
       "      <td>25/08/2021</td>\n",
       "    </tr>\n",
       "    <tr>\n",
       "      <th>4</th>\n",
       "      <td>1005551</td>\n",
       "      <td>29/06/2021</td>\n",
       "    </tr>\n",
       "    <tr>\n",
       "      <th>...</th>\n",
       "      <td>...</td>\n",
       "      <td>...</td>\n",
       "    </tr>\n",
       "    <tr>\n",
       "      <th>2886</th>\n",
       "      <td>6011693</td>\n",
       "      <td>27/10/2017</td>\n",
       "    </tr>\n",
       "    <tr>\n",
       "      <th>2887</th>\n",
       "      <td>6015403</td>\n",
       "      <td>14/08/2018</td>\n",
       "    </tr>\n",
       "    <tr>\n",
       "      <th>2888</th>\n",
       "      <td>6019982</td>\n",
       "      <td>19/01/2015</td>\n",
       "    </tr>\n",
       "    <tr>\n",
       "      <th>2889</th>\n",
       "      <td>6020094</td>\n",
       "      <td>13/06/2021</td>\n",
       "    </tr>\n",
       "    <tr>\n",
       "      <th>2890</th>\n",
       "      <td>6020094</td>\n",
       "      <td>22/04/2022</td>\n",
       "    </tr>\n",
       "  </tbody>\n",
       "</table>\n",
       "<p>2891 rows × 2 columns</p>\n",
       "</div>"
      ],
      "text/plain": [
       "      Participant_ID   VisitDate\n",
       "0            1003300    1/7/2022\n",
       "1            1003300  27/10/2021\n",
       "2            1004025  19/05/2010\n",
       "3            1005551  25/08/2021\n",
       "4            1005551  29/06/2021\n",
       "...              ...         ...\n",
       "2886         6011693  27/10/2017\n",
       "2887         6015403  14/08/2018\n",
       "2888         6019982  19/01/2015\n",
       "2889         6020094  13/06/2021\n",
       "2890         6020094  22/04/2022\n",
       "\n",
       "[2891 rows x 2 columns]"
      ]
     },
     "execution_count": 12,
     "metadata": {},
     "output_type": "execute_result"
    }
   ],
   "source": [
    "# Remove rows where 'Participant_ID' is not numeric or does not have 7 digits\n",
    "is_numeric = df_hospital_visit['Participant_ID'].astype(str).str.isnumeric()\n",
    "has_7_digits = df_hospital_visit['Participant_ID'].astype(str).str.len() == 7\n",
    "print(\"Rows where Patient_ID is not numeric or does not have 7 digits:\")\n",
    "print(df_hospital_visit[~(is_numeric & has_7_digits)])\n",
    "df_hospital_visit = df_hospital_visit[is_numeric & has_7_digits]\n",
    "df_hospital_visit"
   ]
  },
  {
   "cell_type": "code",
   "execution_count": 13,
   "id": "a5d908d5",
   "metadata": {},
   "outputs": [
    {
     "data": {
      "text/plain": [
       "Participant_ID    1041231\n",
       "VisitDate             NaN\n",
       "Name: 23, dtype: object"
      ]
     },
     "execution_count": 13,
     "metadata": {},
     "output_type": "execute_result"
    }
   ],
   "source": [
    "df_hospital_visit.iloc[23] #NaN value that gets removed"
   ]
  },
  {
   "cell_type": "code",
   "execution_count": 14,
   "id": "364ff323",
   "metadata": {},
   "outputs": [
    {
     "name": "stdout",
     "output_type": "stream",
     "text": [
      "Rows where VisitDate is not between 1950 and 2023:\n",
      "      Participant_ID  VisitDate\n",
      "23           1041231        NaT\n",
      "53           1131574        NaT\n",
      "56           1138258        NaT\n",
      "79           1189620        NaT\n",
      "124          1275182 1700-01-08\n",
      "...              ...        ...\n",
      "2735         5756558        NaT\n",
      "2767         5807548        NaT\n",
      "2804         5873537        NaT\n",
      "2824         5919950        NaT\n",
      "2834         5928617        NaT\n",
      "\n",
      "[86 rows x 2 columns]\n"
     ]
    },
    {
     "data": {
      "text/html": [
       "<div>\n",
       "<style scoped>\n",
       "    .dataframe tbody tr th:only-of-type {\n",
       "        vertical-align: middle;\n",
       "    }\n",
       "\n",
       "    .dataframe tbody tr th {\n",
       "        vertical-align: top;\n",
       "    }\n",
       "\n",
       "    .dataframe thead th {\n",
       "        text-align: right;\n",
       "    }\n",
       "</style>\n",
       "<table border=\"1\" class=\"dataframe\">\n",
       "  <thead>\n",
       "    <tr style=\"text-align: right;\">\n",
       "      <th></th>\n",
       "      <th>Participant_ID</th>\n",
       "      <th>VisitDate</th>\n",
       "    </tr>\n",
       "  </thead>\n",
       "  <tbody>\n",
       "    <tr>\n",
       "      <th>0</th>\n",
       "      <td>1003300</td>\n",
       "      <td>2022-07-01</td>\n",
       "    </tr>\n",
       "    <tr>\n",
       "      <th>1</th>\n",
       "      <td>1003300</td>\n",
       "      <td>2021-10-27</td>\n",
       "    </tr>\n",
       "    <tr>\n",
       "      <th>2</th>\n",
       "      <td>1004025</td>\n",
       "      <td>2010-05-19</td>\n",
       "    </tr>\n",
       "    <tr>\n",
       "      <th>3</th>\n",
       "      <td>1005551</td>\n",
       "      <td>2021-08-25</td>\n",
       "    </tr>\n",
       "    <tr>\n",
       "      <th>4</th>\n",
       "      <td>1005551</td>\n",
       "      <td>2021-06-29</td>\n",
       "    </tr>\n",
       "    <tr>\n",
       "      <th>...</th>\n",
       "      <td>...</td>\n",
       "      <td>...</td>\n",
       "    </tr>\n",
       "    <tr>\n",
       "      <th>2886</th>\n",
       "      <td>6011693</td>\n",
       "      <td>2017-10-27</td>\n",
       "    </tr>\n",
       "    <tr>\n",
       "      <th>2887</th>\n",
       "      <td>6015403</td>\n",
       "      <td>2018-08-14</td>\n",
       "    </tr>\n",
       "    <tr>\n",
       "      <th>2888</th>\n",
       "      <td>6019982</td>\n",
       "      <td>2015-01-19</td>\n",
       "    </tr>\n",
       "    <tr>\n",
       "      <th>2889</th>\n",
       "      <td>6020094</td>\n",
       "      <td>2021-06-13</td>\n",
       "    </tr>\n",
       "    <tr>\n",
       "      <th>2890</th>\n",
       "      <td>6020094</td>\n",
       "      <td>2022-04-22</td>\n",
       "    </tr>\n",
       "  </tbody>\n",
       "</table>\n",
       "<p>2805 rows × 2 columns</p>\n",
       "</div>"
      ],
      "text/plain": [
       "      Participant_ID  VisitDate\n",
       "0            1003300 2022-07-01\n",
       "1            1003300 2021-10-27\n",
       "2            1004025 2010-05-19\n",
       "3            1005551 2021-08-25\n",
       "4            1005551 2021-06-29\n",
       "...              ...        ...\n",
       "2886         6011693 2017-10-27\n",
       "2887         6015403 2018-08-14\n",
       "2888         6019982 2015-01-19\n",
       "2889         6020094 2021-06-13\n",
       "2890         6020094 2022-04-22\n",
       "\n",
       "[2805 rows x 2 columns]"
      ]
     },
     "execution_count": 14,
     "metadata": {},
     "output_type": "execute_result"
    }
   ],
   "source": [
    "# Remove rows where VisitDate is not between 1950 and 2023\n",
    "#for this, we have to convert the date into a datetime first:\n",
    "df_hospital_visit['VisitDate'] = pd.to_datetime(df_hospital_visit['VisitDate'], format='%d/%m/%Y') #would raise an error if its not all dates\n",
    "is_after_1950 = df_hospital_visit['VisitDate'].dt.year >= 1950\n",
    "is_before_2023 = df_hospital_visit['VisitDate'].dt.year <= 2023\n",
    "print(\"Rows where VisitDate is not between 1950 and 2023:\")\n",
    "print(df_hospital_visit[~(is_after_1950 & is_before_2023)])\n",
    "df_hospital_visit = df_hospital_visit[(is_after_1950 & is_before_2023)]\n",
    "df_hospital_visit\n",
    "#several NaTs and even an entry from 1700 in line 124! (86 total)"
   ]
  },
  {
   "cell_type": "code",
   "execution_count": 15,
   "id": "53feb0e7",
   "metadata": {},
   "outputs": [
    {
     "data": {
      "text/html": [
       "<div>\n",
       "<style scoped>\n",
       "    .dataframe tbody tr th:only-of-type {\n",
       "        vertical-align: middle;\n",
       "    }\n",
       "\n",
       "    .dataframe tbody tr th {\n",
       "        vertical-align: top;\n",
       "    }\n",
       "\n",
       "    .dataframe thead th {\n",
       "        text-align: right;\n",
       "    }\n",
       "</style>\n",
       "<table border=\"1\" class=\"dataframe\">\n",
       "  <thead>\n",
       "    <tr style=\"text-align: right;\">\n",
       "      <th></th>\n",
       "      <th>Participant_ID</th>\n",
       "      <th>num_visits</th>\n",
       "    </tr>\n",
       "  </thead>\n",
       "  <tbody>\n",
       "    <tr>\n",
       "      <th>0</th>\n",
       "      <td>1003300</td>\n",
       "      <td>2</td>\n",
       "    </tr>\n",
       "    <tr>\n",
       "      <th>1</th>\n",
       "      <td>1004025</td>\n",
       "      <td>1</td>\n",
       "    </tr>\n",
       "    <tr>\n",
       "      <th>2</th>\n",
       "      <td>1005551</td>\n",
       "      <td>2</td>\n",
       "    </tr>\n",
       "    <tr>\n",
       "      <th>3</th>\n",
       "      <td>1005594</td>\n",
       "      <td>1</td>\n",
       "    </tr>\n",
       "    <tr>\n",
       "      <th>4</th>\n",
       "      <td>1005624</td>\n",
       "      <td>2</td>\n",
       "    </tr>\n",
       "    <tr>\n",
       "      <th>...</th>\n",
       "      <td>...</td>\n",
       "      <td>...</td>\n",
       "    </tr>\n",
       "    <tr>\n",
       "      <th>2127</th>\n",
       "      <td>6009769</td>\n",
       "      <td>1</td>\n",
       "    </tr>\n",
       "    <tr>\n",
       "      <th>2128</th>\n",
       "      <td>6011693</td>\n",
       "      <td>4</td>\n",
       "    </tr>\n",
       "    <tr>\n",
       "      <th>2129</th>\n",
       "      <td>6015403</td>\n",
       "      <td>1</td>\n",
       "    </tr>\n",
       "    <tr>\n",
       "      <th>2130</th>\n",
       "      <td>6019982</td>\n",
       "      <td>1</td>\n",
       "    </tr>\n",
       "    <tr>\n",
       "      <th>2131</th>\n",
       "      <td>6020094</td>\n",
       "      <td>2</td>\n",
       "    </tr>\n",
       "  </tbody>\n",
       "</table>\n",
       "<p>2132 rows × 2 columns</p>\n",
       "</div>"
      ],
      "text/plain": [
       "      Participant_ID  num_visits\n",
       "0            1003300           2\n",
       "1            1004025           1\n",
       "2            1005551           2\n",
       "3            1005594           1\n",
       "4            1005624           2\n",
       "...              ...         ...\n",
       "2127         6009769           1\n",
       "2128         6011693           4\n",
       "2129         6015403           1\n",
       "2130         6019982           1\n",
       "2131         6020094           2\n",
       "\n",
       "[2132 rows x 2 columns]"
      ]
     },
     "execution_count": 15,
     "metadata": {},
     "output_type": "execute_result"
    }
   ],
   "source": [
    "# Calculate the number of visits for each patient\n",
    "num_visits = df_hospital_visit.groupby('Participant_ID').size().reset_index(name='num_visits')\n",
    "num_visits\n"
   ]
  },
  {
   "cell_type": "markdown",
   "id": "96970f08",
   "metadata": {},
   "source": [
    "# merge tables and set num_visits to 0 if na "
   ]
  },
  {
   "cell_type": "code",
   "execution_count": 16,
   "id": "943885ff",
   "metadata": {},
   "outputs": [
    {
     "data": {
      "text/html": [
       "<div>\n",
       "<style scoped>\n",
       "    .dataframe tbody tr th:only-of-type {\n",
       "        vertical-align: middle;\n",
       "    }\n",
       "\n",
       "    .dataframe tbody tr th {\n",
       "        vertical-align: top;\n",
       "    }\n",
       "\n",
       "    .dataframe thead th {\n",
       "        text-align: right;\n",
       "    }\n",
       "</style>\n",
       "<table border=\"1\" class=\"dataframe\">\n",
       "  <thead>\n",
       "    <tr style=\"text-align: right;\">\n",
       "      <th></th>\n",
       "      <th>Participant_ID</th>\n",
       "      <th>Sex</th>\n",
       "      <th>Age</th>\n",
       "      <th>Smoking_status</th>\n",
       "      <th>BMI</th>\n",
       "      <th>Disease</th>\n",
       "      <th>num_visits</th>\n",
       "    </tr>\n",
       "  </thead>\n",
       "  <tbody>\n",
       "    <tr>\n",
       "      <th>0</th>\n",
       "      <td>1003300</td>\n",
       "      <td>Male</td>\n",
       "      <td>62</td>\n",
       "      <td>Previous</td>\n",
       "      <td>33.7597</td>\n",
       "      <td>2</td>\n",
       "      <td>2.0</td>\n",
       "    </tr>\n",
       "    <tr>\n",
       "      <th>1</th>\n",
       "      <td>1004025</td>\n",
       "      <td>Male</td>\n",
       "      <td>60</td>\n",
       "      <td>Previous</td>\n",
       "      <td>28.1173</td>\n",
       "      <td>1</td>\n",
       "      <td>1.0</td>\n",
       "    </tr>\n",
       "    <tr>\n",
       "      <th>2</th>\n",
       "      <td>1005551</td>\n",
       "      <td>Male</td>\n",
       "      <td>69</td>\n",
       "      <td>Previous</td>\n",
       "      <td>26.4159</td>\n",
       "      <td>2</td>\n",
       "      <td>2.0</td>\n",
       "    </tr>\n",
       "    <tr>\n",
       "      <th>3</th>\n",
       "      <td>1005594</td>\n",
       "      <td>Male</td>\n",
       "      <td>64</td>\n",
       "      <td>Previous</td>\n",
       "      <td>24.7550</td>\n",
       "      <td>1</td>\n",
       "      <td>1.0</td>\n",
       "    </tr>\n",
       "    <tr>\n",
       "      <th>4</th>\n",
       "      <td>1005624</td>\n",
       "      <td>Male</td>\n",
       "      <td>64</td>\n",
       "      <td>Previous</td>\n",
       "      <td>35.0773</td>\n",
       "      <td>2</td>\n",
       "      <td>2.0</td>\n",
       "    </tr>\n",
       "    <tr>\n",
       "      <th>...</th>\n",
       "      <td>...</td>\n",
       "      <td>...</td>\n",
       "      <td>...</td>\n",
       "      <td>...</td>\n",
       "      <td>...</td>\n",
       "      <td>...</td>\n",
       "      <td>...</td>\n",
       "    </tr>\n",
       "    <tr>\n",
       "      <th>2208</th>\n",
       "      <td>6009769</td>\n",
       "      <td>Male</td>\n",
       "      <td>48</td>\n",
       "      <td>Previous</td>\n",
       "      <td>39.3345</td>\n",
       "      <td>2</td>\n",
       "      <td>1.0</td>\n",
       "    </tr>\n",
       "    <tr>\n",
       "      <th>2209</th>\n",
       "      <td>6011693</td>\n",
       "      <td>Male</td>\n",
       "      <td>62</td>\n",
       "      <td>Previous</td>\n",
       "      <td>30.8813</td>\n",
       "      <td>2</td>\n",
       "      <td>4.0</td>\n",
       "    </tr>\n",
       "    <tr>\n",
       "      <th>2210</th>\n",
       "      <td>6015403</td>\n",
       "      <td>Female</td>\n",
       "      <td>60</td>\n",
       "      <td>Previous</td>\n",
       "      <td>34.7276</td>\n",
       "      <td>1</td>\n",
       "      <td>1.0</td>\n",
       "    </tr>\n",
       "    <tr>\n",
       "      <th>2211</th>\n",
       "      <td>6019982</td>\n",
       "      <td>Male</td>\n",
       "      <td>54</td>\n",
       "      <td>Never</td>\n",
       "      <td>25.3287</td>\n",
       "      <td>2</td>\n",
       "      <td>1.0</td>\n",
       "    </tr>\n",
       "    <tr>\n",
       "      <th>2212</th>\n",
       "      <td>6020094</td>\n",
       "      <td>Female</td>\n",
       "      <td>63</td>\n",
       "      <td>Never</td>\n",
       "      <td>24.2972</td>\n",
       "      <td>2</td>\n",
       "      <td>2.0</td>\n",
       "    </tr>\n",
       "  </tbody>\n",
       "</table>\n",
       "<p>2213 rows × 7 columns</p>\n",
       "</div>"
      ],
      "text/plain": [
       "      Participant_ID     Sex  Age Smoking_status      BMI  Disease  num_visits\n",
       "0            1003300    Male   62       Previous  33.7597        2         2.0\n",
       "1            1004025    Male   60       Previous  28.1173        1         1.0\n",
       "2            1005551    Male   69       Previous  26.4159        2         2.0\n",
       "3            1005594    Male   64       Previous  24.7550        1         1.0\n",
       "4            1005624    Male   64       Previous  35.0773        2         2.0\n",
       "...              ...     ...  ...            ...      ...      ...         ...\n",
       "2208         6009769    Male   48       Previous  39.3345        2         1.0\n",
       "2209         6011693    Male   62       Previous  30.8813        2         4.0\n",
       "2210         6015403  Female   60       Previous  34.7276        1         1.0\n",
       "2211         6019982    Male   54          Never  25.3287        2         1.0\n",
       "2212         6020094  Female   63          Never  24.2972        2         2.0\n",
       "\n",
       "[2213 rows x 7 columns]"
      ]
     },
     "execution_count": 16,
     "metadata": {},
     "output_type": "execute_result"
    }
   ],
   "source": [
    "statistics_df = pd.merge(df_patient_info, num_visits, on='Participant_ID', how='left')\n",
    "\n",
    "# Set Number_of_visit to 0 for patients without a value\n",
    "statistics_df['num_visits'] = statistics_df['num_visits'].fillna(0)\n",
    "statistics_df"
   ]
  },
  {
   "cell_type": "code",
   "execution_count": 17,
   "id": "6abf0c38",
   "metadata": {},
   "outputs": [
    {
     "name": "stdout",
     "output_type": "stream",
     "text": [
      "Entries with 0 visits:\n",
      "      Participant_ID     Sex  Age Smoking_status        BMI  Disease   \n",
      "16           1041231    Male   65          Never  27.853300        1  \\\n",
      "43           1131574  Female   69          Never  32.845400        1   \n",
      "46           1138258    Male   65       Previous  32.100300        1   \n",
      "64           1189620    Male   46          Never  23.312000        2   \n",
      "98           1275182    Male   61          Never  26.963800        2   \n",
      "...              ...     ...  ...            ...        ...      ...   \n",
      "2101         5756558  Female   69          Never  27.027000        1   \n",
      "2127         5807548    Male   60          Never  29.092445        1   \n",
      "2152         5873537    Male   65          Never  32.769600        1   \n",
      "2166         5919950    Male   56          Never  35.891500        2   \n",
      "2172         5928617  Female   68       Previous  28.628800        1   \n",
      "\n",
      "      num_visits  \n",
      "16           0.0  \n",
      "43           0.0  \n",
      "46           0.0  \n",
      "64           0.0  \n",
      "98           0.0  \n",
      "...          ...  \n",
      "2101         0.0  \n",
      "2127         0.0  \n",
      "2152         0.0  \n",
      "2166         0.0  \n",
      "2172         0.0  \n",
      "\n",
      "[84 rows x 7 columns]\n"
     ]
    }
   ],
   "source": [
    "print(\"Entries with 0 visits:\")\n",
    "print(statistics_df[statistics_df['num_visits'] == 0])"
   ]
  },
  {
   "cell_type": "markdown",
   "id": "3dec941c",
   "metadata": {},
   "source": [
    "# sanity check summary\n",
    "found 2 rows where BMI is not between 15 and 60 <br />\n",
    "found 3 rows with NaN smoking status after that<br />\n",
    "and 86 lines with NaN values or values of VisitDate that are not between 1950 and 2023 <br />"
   ]
  },
  {
   "cell_type": "markdown",
   "id": "7244aef2",
   "metadata": {},
   "source": [
    "# 1. Is the BMI different between the healthy and control group? make the box/violin chart\n"
   ]
  },
  {
   "cell_type": "code",
   "execution_count": 18,
   "id": "0a39aa8a",
   "metadata": {},
   "outputs": [
    {
     "data": {
      "text/plain": [
       "<Axes: xlabel='Group', ylabel='BMI'>"
      ]
     },
     "execution_count": 18,
     "metadata": {},
     "output_type": "execute_result"
    },
    {
     "data": {
      "image/png": "[encoded data removed]",
      "text/plain": [
       "<Figure size 640x480 with 1 Axes>"
      ]
     },
     "metadata": {},
     "output_type": "display_data"
    }
   ],
   "source": [
    "import seaborn as sns\n",
    "# Map the Disease column to 'Healthy' and 'Control' labels\n",
    "statistics_df['Group'] = statistics_df['Disease'].map({1: 'Control', 2: 'Healthy'})\n",
    "\n",
    "# Create a box plot of BMI by group\n",
    "sns.boxplot(x='Group', y='BMI', data=statistics_df) #1 is control, 2 is healthy"
   ]
  },
  {
   "cell_type": "code",
   "execution_count": 19,
   "id": "48a8898c",
   "metadata": {},
   "outputs": [
    {
     "data": {
      "text/plain": [
       "<Axes: xlabel='Group', ylabel='BMI'>"
      ]
     },
     "execution_count": 19,
     "metadata": {},
     "output_type": "execute_result"
    },
    {
     "data": {
      "image/png": "[encoded data removed]",
      "text/plain": [
       "<Figure size 640x480 with 1 Axes>"
      ]
     },
     "metadata": {},
     "output_type": "display_data"
    }
   ],
   "source": [
    "# Create a violin plot of BMI by group\n",
    "sns.violinplot(x='Group', y='BMI', data=statistics_df) #1 is control, 2 is healthy"
   ]
  },
  {
   "cell_type": "markdown",
   "id": "bda88ed0",
   "metadata": {},
   "source": [
    "the BMI does not appear to be very different between the control group and healthy group as far as I can see. But better be save than sorry and perform a t-test:"
   ]
  },
  {
   "cell_type": "code",
   "execution_count": 20,
   "id": "c7c0e06a",
   "metadata": {
    "scrolled": true
   },
   "outputs": [
    {
     "data": {
      "text/plain": [
       "1       28.1173\n",
       "3       24.7550\n",
       "8       30.0826\n",
       "15      23.7645\n",
       "16      27.8533\n",
       "         ...   \n",
       "2184    23.2884\n",
       "2188    35.8782\n",
       "2193    29.6567\n",
       "2205    27.4380\n",
       "2210    34.7276\n",
       "Name: BMI, Length: 565, dtype: float64"
      ]
     },
     "execution_count": 20,
     "metadata": {},
     "output_type": "execute_result"
    }
   ],
   "source": [
    "# Split the data into healthy and control groups\n",
    "bmi_control_group = statistics_df[statistics_df['Disease'] == 1]['BMI']\n",
    "bmi_control_group"
   ]
  },
  {
   "cell_type": "code",
   "execution_count": 21,
   "id": "d50cd3f3",
   "metadata": {},
   "outputs": [
    {
     "data": {
      "text/plain": [
       "0       33.7597\n",
       "2       26.4159\n",
       "4       35.0773\n",
       "5       21.6764\n",
       "6       26.9529\n",
       "         ...   \n",
       "2207    29.1140\n",
       "2208    39.3345\n",
       "2209    30.8813\n",
       "2211    25.3287\n",
       "2212    24.2972\n",
       "Name: BMI, Length: 1648, dtype: float64"
      ]
     },
     "execution_count": 21,
     "metadata": {},
     "output_type": "execute_result"
    }
   ],
   "source": [
    "bmi_healthy_group = statistics_df[statistics_df['Disease'] == 2]['BMI']\n",
    "bmi_healthy_group"
   ]
  },
  {
   "cell_type": "code",
   "execution_count": 22,
   "id": "5401c56b",
   "metadata": {},
   "outputs": [
    {
     "name": "stdout",
     "output_type": "stream",
     "text": [
      "T-test statistic: -0.19\n",
      "P-value: 0.8481\n",
      "The BMI is not significantly different between the Disease and Healthy groups.\n"
     ]
    }
   ],
   "source": [
    "from scipy.stats import ttest_ind\n",
    "\n",
    "t_stat, p_value = ttest_ind(bmi_control_group, bmi_healthy_group)\n",
    "\n",
    "# Print the results\n",
    "print(f\"T-test statistic: {t_stat:.2f}\")\n",
    "print(f\"P-value: {p_value:.4f}\")\n",
    "\n",
    "if p_value < 0.05:\n",
    "    print(\"The BMI is significantly different between the Disease and Healthy groups.\")\n",
    "else:\n",
    "    print(\"The BMI is not significantly different between the Disease and Healthy groups.\")"
   ]
  },
  {
   "cell_type": "markdown",
   "id": "c4568c80",
   "metadata": {},
   "source": [
    "# 2. Is the proportion of Smoke status different between the healthy and control group?\n",
    "->chi-squared. Is/ is not significantly different "
   ]
  },
  {
   "cell_type": "code",
   "execution_count": 23,
   "id": "512c1926",
   "metadata": {},
   "outputs": [
    {
     "data": {
      "text/html": [
       "<div>\n",
       "<style scoped>\n",
       "    .dataframe tbody tr th:only-of-type {\n",
       "        vertical-align: middle;\n",
       "    }\n",
       "\n",
       "    .dataframe tbody tr th {\n",
       "        vertical-align: top;\n",
       "    }\n",
       "\n",
       "    .dataframe thead th {\n",
       "        text-align: right;\n",
       "    }\n",
       "</style>\n",
       "<table border=\"1\" class=\"dataframe\">\n",
       "  <thead>\n",
       "    <tr style=\"text-align: right;\">\n",
       "      <th>Group</th>\n",
       "      <th>Control</th>\n",
       "      <th>Healthy</th>\n",
       "    </tr>\n",
       "    <tr>\n",
       "      <th>Smoking_status</th>\n",
       "      <th></th>\n",
       "      <th></th>\n",
       "    </tr>\n",
       "  </thead>\n",
       "  <tbody>\n",
       "    <tr>\n",
       "      <th>Current</th>\n",
       "      <td>92</td>\n",
       "      <td>258</td>\n",
       "    </tr>\n",
       "    <tr>\n",
       "      <th>Never</th>\n",
       "      <td>214</td>\n",
       "      <td>636</td>\n",
       "    </tr>\n",
       "    <tr>\n",
       "      <th>Prefer not to answer</th>\n",
       "      <td>5</td>\n",
       "      <td>4</td>\n",
       "    </tr>\n",
       "    <tr>\n",
       "      <th>Previous</th>\n",
       "      <td>254</td>\n",
       "      <td>750</td>\n",
       "    </tr>\n",
       "  </tbody>\n",
       "</table>\n",
       "</div>"
      ],
      "text/plain": [
       "Group                 Control  Healthy\n",
       "Smoking_status                        \n",
       "Current                    92      258\n",
       "Never                     214      636\n",
       "Prefer not to answer        5        4\n",
       "Previous                  254      750"
      ]
     },
     "execution_count": 23,
     "metadata": {},
     "output_type": "execute_result"
    }
   ],
   "source": [
    "from scipy.stats import chi2_contingency\n",
    "\n",
    "# Create a contingency table of Smoking_status by Group\n",
    "contingency_table = pd.crosstab(statistics_df['Smoking_status'], statistics_df['Group'])\n",
    "\n",
    "contingency_table"
   ]
  },
  {
   "cell_type": "code",
   "execution_count": 24,
   "id": "b0daf09f",
   "metadata": {},
   "outputs": [
    {
     "name": "stdout",
     "output_type": "stream",
     "text": [
      "Chi-squared test statistic: 4.46\n",
      "P-value: 0.2162\n",
      "The proportion of smoking status is not significantly different between the healthy and control groups.\n"
     ]
    }
   ],
   "source": [
    "# Perform a chi-squared test\n",
    "chi2, p, dof, expected = chi2_contingency(contingency_table)\n",
    "\n",
    "# Print the results\n",
    "print(f\"Chi-squared test statistic: {chi2:.2f}\")\n",
    "print(f\"P-value: {p:.4f}\")\n",
    "\n",
    "if p < 0.05:\n",
    "    print(\"The proportion of smoking status is significantly different between the healthy and control groups.\")\n",
    "else:\n",
    "    print(\"The proportion of smoking status is not significantly different between the healthy and control groups.\")"
   ]
  },
  {
   "cell_type": "code",
   "execution_count": 25,
   "id": "68b3f9a4",
   "metadata": {},
   "outputs": [
    {
     "data": {
      "text/plain": [
       "<Axes: xlabel='Group', ylabel='count'>"
      ]
     },
     "execution_count": 25,
     "metadata": {},
     "output_type": "execute_result"
    },
    {
     "data": {
      "image/png": "[encoded data removed]",
      "text/plain": [
       "<Figure size 640x480 with 1 Axes>"
      ]
     },
     "metadata": {},
     "output_type": "display_data"
    }
   ],
   "source": [
    "# Create a bar plot of Smoke status by group\n",
    "sns.countplot(x='Group', hue='Smoking_status', data=statistics_df)"
   ]
  },
  {
   "cell_type": "markdown",
   "id": "2e5e71b9",
   "metadata": {},
   "source": [
    "# 3. Is the smoke status related to the number of Hospital visits regardless of the disease? (ignore the \"Prefer not to answer\")\n",
    "-> chi-squared; Is/ Is not strongly correlated aka strong relationship. Or correlation directly"
   ]
  },
  {
   "cell_type": "code",
   "execution_count": 26,
   "id": "cfdb2af4",
   "metadata": {},
   "outputs": [],
   "source": [
    "# Remove rows where Smoking_status is 'Prefer not to answer'\n",
    "statistics_df2 = statistics_df.copy()\n",
    "statistics_df2 = statistics_df2[statistics_df2['Smoking_status'] != 'Prefer not to answer']"
   ]
  },
  {
   "cell_type": "code",
   "execution_count": 27,
   "id": "a6ca4762",
   "metadata": {},
   "outputs": [
    {
     "name": "stdout",
     "output_type": "stream",
     "text": [
      "Correlation between Smoking_status and num_visits: -0.01\n",
      "There is not a strong relationship between smoking status and the number of hospital visits.\n"
     ]
    }
   ],
   "source": [
    "# Calculate the correlation between Smoking_status and num_visits\n",
    "corr = statistics_df2['Smoking_status'].astype('category').cat.codes.corr(statistics_df2['num_visits'])\n",
    "\n",
    "# Print the results\n",
    "print(f\"Correlation between Smoking_status and num_visits: {corr:.2f}\")\n",
    "\n",
    "if abs(corr) > 0.5:\n",
    "    print(\"There is a strong relationship between smoking status and the number of hospital visits.\")\n",
    "else:\n",
    "    print(\"There is not a strong relationship between smoking status and the number of hospital visits.\")"
   ]
  },
  {
   "cell_type": "code",
   "execution_count": 28,
   "id": "a15305c1",
   "metadata": {},
   "outputs": [
    {
     "data": {
      "text/html": [
       "<div>\n",
       "<style scoped>\n",
       "    .dataframe tbody tr th:only-of-type {\n",
       "        vertical-align: middle;\n",
       "    }\n",
       "\n",
       "    .dataframe tbody tr th {\n",
       "        vertical-align: top;\n",
       "    }\n",
       "\n",
       "    .dataframe thead th {\n",
       "        text-align: right;\n",
       "    }\n",
       "</style>\n",
       "<table border=\"1\" class=\"dataframe\">\n",
       "  <thead>\n",
       "    <tr style=\"text-align: right;\">\n",
       "      <th>num_visits</th>\n",
       "      <th>0.0</th>\n",
       "      <th>1.0</th>\n",
       "      <th>2.0</th>\n",
       "      <th>3.0</th>\n",
       "      <th>4.0</th>\n",
       "      <th>5.0</th>\n",
       "      <th>6.0</th>\n",
       "      <th>7.0</th>\n",
       "      <th>8.0</th>\n",
       "      <th>9.0</th>\n",
       "      <th>13.0</th>\n",
       "      <th>14.0</th>\n",
       "      <th>17.0</th>\n",
       "    </tr>\n",
       "    <tr>\n",
       "      <th>Smoking_status</th>\n",
       "      <th></th>\n",
       "      <th></th>\n",
       "      <th></th>\n",
       "      <th></th>\n",
       "      <th></th>\n",
       "      <th></th>\n",
       "      <th></th>\n",
       "      <th></th>\n",
       "      <th></th>\n",
       "      <th></th>\n",
       "      <th></th>\n",
       "      <th></th>\n",
       "      <th></th>\n",
       "    </tr>\n",
       "  </thead>\n",
       "  <tbody>\n",
       "    <tr>\n",
       "      <th>Current</th>\n",
       "      <td>15</td>\n",
       "      <td>254</td>\n",
       "      <td>65</td>\n",
       "      <td>8</td>\n",
       "      <td>5</td>\n",
       "      <td>0</td>\n",
       "      <td>1</td>\n",
       "      <td>0</td>\n",
       "      <td>1</td>\n",
       "      <td>0</td>\n",
       "      <td>1</td>\n",
       "      <td>0</td>\n",
       "      <td>0</td>\n",
       "    </tr>\n",
       "    <tr>\n",
       "      <th>Never</th>\n",
       "      <td>38</td>\n",
       "      <td>662</td>\n",
       "      <td>108</td>\n",
       "      <td>18</td>\n",
       "      <td>12</td>\n",
       "      <td>6</td>\n",
       "      <td>1</td>\n",
       "      <td>1</td>\n",
       "      <td>1</td>\n",
       "      <td>2</td>\n",
       "      <td>0</td>\n",
       "      <td>1</td>\n",
       "      <td>0</td>\n",
       "    </tr>\n",
       "    <tr>\n",
       "      <th>Previous</th>\n",
       "      <td>31</td>\n",
       "      <td>783</td>\n",
       "      <td>132</td>\n",
       "      <td>34</td>\n",
       "      <td>18</td>\n",
       "      <td>1</td>\n",
       "      <td>2</td>\n",
       "      <td>1</td>\n",
       "      <td>0</td>\n",
       "      <td>1</td>\n",
       "      <td>0</td>\n",
       "      <td>0</td>\n",
       "      <td>1</td>\n",
       "    </tr>\n",
       "  </tbody>\n",
       "</table>\n",
       "</div>"
      ],
      "text/plain": [
       "num_visits      0.0   1.0   2.0   3.0   4.0   5.0   6.0   7.0   8.0   9.0    \n",
       "Smoking_status                                                               \n",
       "Current           15   254    65     8     5     0     1     0     1     0  \\\n",
       "Never             38   662   108    18    12     6     1     1     1     2   \n",
       "Previous          31   783   132    34    18     1     2     1     0     1   \n",
       "\n",
       "num_visits      13.0  14.0  17.0  \n",
       "Smoking_status                    \n",
       "Current            1     0     0  \n",
       "Never              0     1     0  \n",
       "Previous           0     0     1  "
      ]
     },
     "execution_count": 28,
     "metadata": {},
     "output_type": "execute_result"
    }
   ],
   "source": [
    "# Create a contingency table of Smoke status by number of hospital visits\n",
    "contingency_table = pd.crosstab(statistics_df2['Smoking_status'], statistics_df2['num_visits'])\n",
    "contingency_table"
   ]
  },
  {
   "cell_type": "code",
   "execution_count": 29,
   "id": "4432e7a4",
   "metadata": {},
   "outputs": [
    {
     "name": "stdout",
     "output_type": "stream",
     "text": [
      "Chi-squared test statistic: 33.14\n",
      "P-value: 0.1012\n",
      "Smoke status is not significantly related to the number of hospital visits.\n"
     ]
    }
   ],
   "source": [
    "# Perform a chi-squared test\n",
    "chi2, p, dof, expected = chi2_contingency(contingency_table)\n",
    "\n",
    "# Print the results\n",
    "print(f\"Chi-squared test statistic: {chi2:.2f}\")\n",
    "print(f\"P-value: {p:.4f}\")\n",
    "if p < 0.05:\n",
    "    print(\"Smoke status is significantly related to the number of hospital visits.\")\n",
    "else:\n",
    "    print(\"Smoke status is not significantly related to the number of hospital visits.\")"
   ]
  },
  {
   "cell_type": "code",
   "execution_count": 30,
   "id": "c25464f2",
   "metadata": {},
   "outputs": [
    {
     "data": {
      "text/plain": [
       "<Axes: xlabel='num_visits', ylabel='Smoking_status'>"
      ]
     },
     "execution_count": 30,
     "metadata": {},
     "output_type": "execute_result"
    },
    {
     "data": {
      "image/png": "[encoded data removed]",
      "text/plain": [
       "<Figure size 640x480 with 2 Axes>"
      ]
     },
     "metadata": {},
     "output_type": "display_data"
    }
   ],
   "source": [
    "# Create a heatmap of the contingency table\n",
    "sns.heatmap(contingency_table, annot=True, fmt='d') #kinda a bad visualization here"
   ]
  },
  {
   "cell_type": "code",
   "execution_count": 31,
   "id": "1f60a1a7",
   "metadata": {},
   "outputs": [
    {
     "data": {
      "text/plain": [
       "<Axes: xlabel='Smoking_status'>"
      ]
     },
     "execution_count": 31,
     "metadata": {},
     "output_type": "execute_result"
    },
    {
     "data": {
      "image/png": "[encoded data removed]",
      "text/plain": [
       "<Figure size 640x480 with 1 Axes>"
      ]
     },
     "metadata": {},
     "output_type": "display_data"
    }
   ],
   "source": [
    "# Create a stacked bar plot of the contingency table\n",
    "contingency_table.plot(kind='bar', stacked=True) #better"
   ]
  },
  {
   "cell_type": "markdown",
   "id": "2f632d83",
   "metadata": {},
   "source": [
    "# 4. Is the number of visits higher in the Disease group than in the Healthy group?\n",
    "-> t-test. Is/ is not significantly different"
   ]
  },
  {
   "cell_type": "code",
   "execution_count": 32,
   "id": "776c3aa0",
   "metadata": {},
   "outputs": [
    {
     "data": {
      "text/plain": [
       "1       1.0\n",
       "3       1.0\n",
       "8       2.0\n",
       "15      1.0\n",
       "16      0.0\n",
       "       ... \n",
       "2184    2.0\n",
       "2188    1.0\n",
       "2193    1.0\n",
       "2205    1.0\n",
       "2210    1.0\n",
       "Name: num_visits, Length: 565, dtype: float64"
      ]
     },
     "execution_count": 32,
     "metadata": {},
     "output_type": "execute_result"
    }
   ],
   "source": [
    "# Perform a t-test to compare the mean number of visits between the two groups\n",
    "control_group = statistics_df[statistics_df['Group'] == 'Control']['num_visits']\n",
    "control_group"
   ]
  },
  {
   "cell_type": "code",
   "execution_count": 33,
   "id": "00c84ddf",
   "metadata": {},
   "outputs": [
    {
     "data": {
      "text/plain": [
       "0       2.0\n",
       "2       2.0\n",
       "4       2.0\n",
       "5       1.0\n",
       "6       2.0\n",
       "       ... \n",
       "2207    1.0\n",
       "2208    1.0\n",
       "2209    4.0\n",
       "2211    1.0\n",
       "2212    2.0\n",
       "Name: num_visits, Length: 1648, dtype: float64"
      ]
     },
     "execution_count": 33,
     "metadata": {},
     "output_type": "execute_result"
    }
   ],
   "source": [
    "healthy_group = statistics_df[statistics_df['Group'] == 'Healthy']['num_visits']\n",
    "healthy_group"
   ]
  },
  {
   "cell_type": "code",
   "execution_count": 34,
   "id": "504d39b0",
   "metadata": {
    "scrolled": true
   },
   "outputs": [
    {
     "name": "stdout",
     "output_type": "stream",
     "text": [
      "T-test statistic: 0.15\n",
      "P-value: 0.8808\n",
      "The number of visits is not significantly different between the Disease and Healthy groups.\n"
     ]
    }
   ],
   "source": [
    "t_stat, p_value = ttest_ind(control_group, healthy_group)\n",
    "\n",
    "# Print the results\n",
    "print(f\"T-test statistic: {t_stat:.2f}\")\n",
    "print(f\"P-value: {p_value:.4f}\")\n",
    "\n",
    "if p_value < 0.05:\n",
    "    print(\"The number of visits is significantly different between the Disease and Healthy groups.\")\n",
    "else:\n",
    "    print(\"The number of visits is not significantly different between the Disease and Healthy groups.\")"
   ]
  },
  {
   "cell_type": "code",
   "execution_count": 35,
   "id": "3e9aa349",
   "metadata": {},
   "outputs": [
    {
     "data": {
      "text/plain": [
       "<Axes: xlabel='Group', ylabel='num_visits'>"
      ]
     },
     "execution_count": 35,
     "metadata": {},
     "output_type": "execute_result"
    },
    {
     "data": {
      "image/png": "[encoded data removed]",
      "text/plain": [
       "<Figure size 640x480 with 1 Axes>"
      ]
     },
     "metadata": {},
     "output_type": "display_data"
    }
   ],
   "source": [
    "# Create a box plot of num_visits by group\n",
    "sns.boxplot(x='Group', y='num_visits', data=statistics_df)\n",
    "\n"
   ]
  },
  {
   "cell_type": "code",
   "execution_count": 36,
   "id": "782b75a1",
   "metadata": {},
   "outputs": [
    {
     "data": {
      "text/plain": [
       "<Axes: xlabel='Group', ylabel='num_visits'>"
      ]
     },
     "execution_count": 36,
     "metadata": {},
     "output_type": "execute_result"
    },
    {
     "data": {
      "image/png": "[encoded data removed]",
      "text/plain": [
       "<Figure size 640x480 with 1 Axes>"
      ]
     },
     "metadata": {},
     "output_type": "display_data"
    }
   ],
   "source": [
    "# Create a violin plot of num_visits by group\n",
    "sns.violinplot(x='Group', y='num_visits', data=statistics_df)"
   ]
  },
  {
   "cell_type": "markdown",
   "id": "a8bba183",
   "metadata": {},
   "source": [
    "# 5. Do Male has a higher current smoke percentage compared to Female?\n",
    "-> Chi-squared. Is/ is not significantly different"
   ]
  },
  {
   "cell_type": "code",
   "execution_count": 37,
   "id": "9afe7cb9",
   "metadata": {},
   "outputs": [
    {
     "data": {
      "text/html": [
       "<div>\n",
       "<style scoped>\n",
       "    .dataframe tbody tr th:only-of-type {\n",
       "        vertical-align: middle;\n",
       "    }\n",
       "\n",
       "    .dataframe tbody tr th {\n",
       "        vertical-align: top;\n",
       "    }\n",
       "\n",
       "    .dataframe thead th {\n",
       "        text-align: right;\n",
       "    }\n",
       "</style>\n",
       "<table border=\"1\" class=\"dataframe\">\n",
       "  <thead>\n",
       "    <tr style=\"text-align: right;\">\n",
       "      <th>Sex</th>\n",
       "      <th>Female</th>\n",
       "      <th>Male</th>\n",
       "    </tr>\n",
       "    <tr>\n",
       "      <th>Smoking_status</th>\n",
       "      <th></th>\n",
       "      <th></th>\n",
       "    </tr>\n",
       "  </thead>\n",
       "  <tbody>\n",
       "    <tr>\n",
       "      <th>False</th>\n",
       "      <td>530</td>\n",
       "      <td>1333</td>\n",
       "    </tr>\n",
       "    <tr>\n",
       "      <th>True</th>\n",
       "      <td>106</td>\n",
       "      <td>244</td>\n",
       "    </tr>\n",
       "  </tbody>\n",
       "</table>\n",
       "</div>"
      ],
      "text/plain": [
       "Sex             Female  Male\n",
       "Smoking_status              \n",
       "False              530  1333\n",
       "True               106   244"
      ]
     },
     "execution_count": 37,
     "metadata": {},
     "output_type": "execute_result"
    }
   ],
   "source": [
    "# Create a contingency table of Smoking_status by Sex\n",
    "contingency_table = pd.crosstab(statistics_df['Smoking_status'] == 'Current', statistics_df['Sex'])\n",
    "contingency_table"
   ]
  },
  {
   "cell_type": "code",
   "execution_count": 38,
   "id": "278b488e",
   "metadata": {},
   "outputs": [
    {
     "name": "stdout",
     "output_type": "stream",
     "text": [
      "Chi-squared test statistic: 0.40\n",
      "P-value: 0.5271\n",
      "The proportion of current smokers is not significantly different between males and females.\n"
     ]
    }
   ],
   "source": [
    "# Perform a chi-squared test\n",
    "chi2, p, dof, expected = chi2_contingency(contingency_table)\n",
    "\n",
    "# Print the results\n",
    "print(f\"Chi-squared test statistic: {chi2:.2f}\")\n",
    "print(f\"P-value: {p:.4f}\")\n",
    "\n",
    "if p < 0.05:\n",
    "    print(\"The proportion of current smokers is significantly different between males and females.\")\n",
    "else:\n",
    "    print(\"The proportion of current smokers is not significantly different between males and females.\")"
   ]
  },
  {
   "cell_type": "code",
   "execution_count": 39,
   "id": "ffa44b1c",
   "metadata": {},
   "outputs": [
    {
     "name": "stdout",
     "output_type": "stream",
     "text": [
      "Number of males: 1577\n",
      "Number of females: 636\n"
     ]
    }
   ],
   "source": [
    "# Count the number of males and females in the dataset\n",
    "sex_counts = statistics_df['Sex'].value_counts()\n",
    "\n",
    "# Print the results\n",
    "print(f\"Number of males: {sex_counts['Male']}\")\n",
    "print(f\"Number of females: {sex_counts['Female']}\")"
   ]
  },
  {
   "cell_type": "code",
   "execution_count": 40,
   "id": "28475714",
   "metadata": {},
   "outputs": [
    {
     "data": {
      "text/plain": [
       "<Axes: xlabel='Sex', ylabel='count'>"
      ]
     },
     "execution_count": 40,
     "metadata": {},
     "output_type": "execute_result"
    },
    {
     "data": {
      "image/png": "[encoded data removed]",
      "text/plain": [
       "<Figure size 640x480 with 1 Axes>"
      ]
     },
     "metadata": {},
     "output_type": "display_data"
    }
   ],
   "source": [
    "# Create a bar plot of Smoke status by sex\n",
    "sns.countplot(x='Sex', hue='Smoking_status', data=statistics_df)"
   ]
  },
  {
   "cell_type": "code",
   "execution_count": 41,
   "id": "f9909091",
   "metadata": {},
   "outputs": [
    {
     "data": {
      "text/plain": [
       "<Axes: xlabel='Sex', ylabel='count'>"
      ]
     },
     "execution_count": 41,
     "metadata": {},
     "output_type": "execute_result"
    },
    {
     "data": {
      "image/png": "[encoded data removed]",
      "text/plain": [
       "<Figure size 640x480 with 1 Axes>"
      ]
     },
     "metadata": {},
     "output_type": "display_data"
    }
   ],
   "source": [
    "# Define a function to map the Smoking_status column to 'Current' and 'Other' labels\n",
    "def map_smoking_status(smoking_status):\n",
    "    if smoking_status == 'Current':\n",
    "        return 'Current'\n",
    "    else:\n",
    "        return 'Other'\n",
    "\n",
    "# Apply the function to the Smoking_status column\n",
    "statistics_df['Smoking_category'] = statistics_df['Smoking_status'].apply(map_smoking_status)\n",
    "\n",
    "# Create a bar plot of Smoking_category by sex\n",
    "sns.countplot(x='Sex', hue='Smoking_category', data=statistics_df)"
   ]
  },
  {
   "cell_type": "markdown",
   "id": "65e6fece",
   "metadata": {},
   "source": [
    "# summary\n",
    "1. Is the BMI different between the healthy and control group? <br />\n",
    "-> No, the BMI is not significantly different between the Disease and Healthy groups.\n",
    "2. Is the proportion of Smoke status different between the healthy and control group? <br />\n",
    "-> No, the proportion of smoking status is not significantly different between the healthy and control groups.\n",
    "3. Is the smoke status related to the number of Hospital visits regardless of the disease? (ignore the \"Prefer not to answer\")<br /> \n",
    "-> No, the smoke status is not significantly related to the number of hospital visits.\n",
    "4. Is the number of visits higher in the Disease group than in the Healthy group? <br />\n",
    "-> No, the number of visits is not significantly different between the Disease and Healthy groups.\n",
    "5. Do Male has a higher current smoke percentage compared to Female? <br />\n",
    "-> No, the proportion of current smokers is not significantly different between males and females."
   ]
  },
  {
   "cell_type": "code",
   "execution_count": null,
   "id": "3539afa9",
   "metadata": {},
   "outputs": [],
   "source": []
  }
 ],
 "metadata": {
  "kernelspec": {
   "display_name": "Python 3 (ipykernel)",
   "language": "python",
   "name": "python3"
  },
  "language_info": {
   "codemirror_mode": {
    "name": "ipython",
    "version": 3
   },
   "file_extension": ".py",
   "mimetype": "text/x-python",
   "name": "python",
   "nbconvert_exporter": "python",
   "pygments_lexer": "ipython3",
   "version": "3.11.3"
  }
 },
 "nbformat": 4,
 "nbformat_minor": 5
}
